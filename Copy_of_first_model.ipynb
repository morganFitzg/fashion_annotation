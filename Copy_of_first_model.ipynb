{
  "nbformat": 4,
  "nbformat_minor": 0,
  "metadata": {
    "colab": {
      "name": "Copy of first_model.ipynb",
      "provenance": [],
      "collapsed_sections": [],
      "authorship_tag": "ABX9TyNEttj9ilzPY5o6NyvLSUQA",
      "include_colab_link": true
    },
    "kernelspec": {
      "name": "python3",
      "display_name": "Python 3"
    },
    "language_info": {
      "name": "python"
    },
    "accelerator": "GPU"
  },
  "cells": [
    {
      "cell_type": "markdown",
      "metadata": {
        "id": "view-in-github",
        "colab_type": "text"
      },
      "source": [
        "<a href=\"https://colab.research.google.com/github/morganFitzg/fashion_annotation/blob/main/Copy_of_first_model.ipynb\" target=\"_parent\"><img src=\"https://colab.research.google.com/assets/colab-badge.svg\" alt=\"Open In Colab\"/></a>"
      ]
    },
    {
      "cell_type": "code",
      "execution_count": null,
      "metadata": {
        "colab": {
          "base_uri": "https://localhost:8080/"
        },
        "id": "gaX8kJBH-_6o",
        "outputId": "94c70f94-eb1e-4c33-c504-0254c89354dd"
      },
      "outputs": [
        {
          "output_type": "stream",
          "name": "stdout",
          "text": [
            "Found GPU at: /device:GPU:0\n"
          ]
        }
      ],
      "source": [
        "%tensorflow_version 2.x\n",
        "import tensorflow as tf\n",
        "device_name = tf.test.gpu_device_name()\n",
        "if device_name != '/device:GPU:0':\n",
        "  raise SystemError('GPU device not found')\n",
        "print('Found GPU at: {}'.format(device_name))"
      ]
    },
    {
      "cell_type": "code",
      "source": [
        "gpu_info = !nvidia-smi\n",
        "gpu_info = '\\n'.join(gpu_info)\n",
        "if gpu_info.find('failed') >= 0:\n",
        "  print('Not connected to a GPU')\n",
        "else:\n",
        "  print(gpu_info)"
      ],
      "metadata": {
        "id": "5bcUnJSpKImJ",
        "colab": {
          "base_uri": "https://localhost:8080/"
        },
        "outputId": "9f347401-67a6-47c0-fb7b-9f44d0793506"
      },
      "execution_count": null,
      "outputs": [
        {
          "output_type": "stream",
          "name": "stdout",
          "text": [
            "Tue Apr 12 00:36:21 2022       \n",
            "+-----------------------------------------------------------------------------+\n",
            "| NVIDIA-SMI 460.32.03    Driver Version: 460.32.03    CUDA Version: 11.2     |\n",
            "|-------------------------------+----------------------+----------------------+\n",
            "| GPU  Name        Persistence-M| Bus-Id        Disp.A | Volatile Uncorr. ECC |\n",
            "| Fan  Temp  Perf  Pwr:Usage/Cap|         Memory-Usage | GPU-Util  Compute M. |\n",
            "|                               |                      |               MIG M. |\n",
            "|===============================+======================+======================|\n",
            "|   0  Tesla P100-PCIE...  Off  | 00000000:00:04.0 Off |                    0 |\n",
            "| N/A   35C    P0    32W / 250W |    375MiB / 16280MiB |      1%      Default |\n",
            "|                               |                      |                  N/A |\n",
            "+-------------------------------+----------------------+----------------------+\n",
            "                                                                               \n",
            "+-----------------------------------------------------------------------------+\n",
            "| Processes:                                                                  |\n",
            "|  GPU   GI   CI        PID   Type   Process name                  GPU Memory |\n",
            "|        ID   ID                                                   Usage      |\n",
            "|=============================================================================|\n",
            "+-----------------------------------------------------------------------------+\n"
          ]
        }
      ]
    },
    {
      "cell_type": "code",
      "source": [
        "import pandas as pd\n",
        "import numpy as np\n",
        "import matplotlib.pyplot as plt\n",
        "import requests\n",
        "from tensorflow.keras.layers import Input, Conv2D, Dense, Flatten, Dropout\n",
        "from tensorflow.keras.layers import GlobalAveragePooling2D\n",
        "from tensorflow.keras.models import Model\n",
        "from keras.models import Model\n",
        "from keras.applications.vgg16 import VGG16\n",
        "from keras.applications.vgg16 import preprocess_input\n",
        "from keras.preprocessing import image\n",
        "from keras.preprocessing.image import ImageDataGenerator\n",
        "from tensorflow.keras.utils import Sequence, to_categorical\n",
        "from keras.losses import CategoricalCrossentropy\n",
        "\n",
        "from sklearn.model_selection import train_test_split\n",
        "from sklearn.metrics import confusion_matrix\n",
        "import io \n",
        "from PIL import Image"
      ],
      "metadata": {
        "id": "0TuR0vIU_I-W"
      },
      "execution_count": null,
      "outputs": []
    },
    {
      "cell_type": "markdown",
      "source": [
        "# Setup"
      ],
      "metadata": {
        "id": "d-kx3kX1E6-p"
      }
    },
    {
      "cell_type": "code",
      "source": [
        "#config\n",
        "IMAGE_SIZE=(224,224,3)\n",
        "epochs=3\n",
        "batch_size=32\n",
        "path='/content/drive/My Drive/fashion_annotation/images/'\n",
        "train_path='/content/drive/My Drive/fashion_annotation/imgs_train1/'\n",
        "val_path='/content/drive/My Drive/fashion_annotation/imgs_val1/'"
      ],
      "metadata": {
        "id": "reFfndvDBrIS"
      },
      "execution_count": null,
      "outputs": []
    },
    {
      "cell_type": "code",
      "source": [
        "from google.colab import drive\n",
        "drive.mount('/content/drive')"
      ],
      "metadata": {
        "colab": {
          "base_uri": "https://localhost:8080/"
        },
        "id": "1UWa37QeCBe0",
        "outputId": "217c1e4c-33af-41e0-d4bd-681fbbc891f7"
      },
      "execution_count": null,
      "outputs": [
        {
          "output_type": "stream",
          "name": "stdout",
          "text": [
            "Mounted at /content/drive\n"
          ]
        }
      ]
    },
    {
      "cell_type": "code",
      "source": [
        "data=pd.read_csv('/content/drive/My Drive/fashion_annotation/data_v1.csv')\n",
        "labels=data['str_label'].apply(eval)\n",
        "data['category']=labels.apply(lambda x: x[0])\n",
        "data['pattern']=labels.apply(lambda x: x[1])\n",
        "#remove argyle and herringbone...there aren't enough for the model split\n",
        "data=data[data['pattern']!='Argyle']\n",
        "data=data[data['pattern']!='Herringbone']\n",
        "cat_num=data['category'].nunique()\n",
        "pat_num=data['pattern'].nunique()\n",
        "print(cat_num)\n",
        "print(pat_num)\n",
        "data.drop(columns=['Unnamed: 0','str_label'],inplace=True)\n",
        "#drop 's' from https in url (download only works if you change to http://)\n",
        "data['url']=data['url'].apply(lambda x: x[:4]+x[5:])\n",
        "data.head()"
      ],
      "metadata": {
        "colab": {
          "base_uri": "https://localhost:8080/",
          "height": 242
        },
        "id": "M0yGVsP_CUaJ",
        "outputId": "90499e5b-26ae-4f01-e06b-1a4914668d37"
      },
      "execution_count": null,
      "outputs": [
        {
          "output_type": "stream",
          "name": "stdout",
          "text": [
            "64\n",
            "23\n"
          ]
        },
        {
          "output_type": "execute_result",
          "data": {
            "text/plain": [
              "   imageId   num_label                                                url  \\\n",
              "0        1    (95, 70)  http://contestimg.wish.com/api/webimage/570f35...   \n",
              "1        2   (36, 229)  http://contestimg.wish.com/api/webimage/5468f1...   \n",
              "2        3  (170, 229)  http://contestimg.wish.com/api/webimage/546410...   \n",
              "3        4   (18, 229)  http://contestimg.wish.com/api/webimage/550b95...   \n",
              "4        5  (189, 181)  http://contestimg.wish.com/api/webimage/54451f...   \n",
              "\n",
              "                       category  pattern  \n",
              "0  Jumpsuits Overalls & Rompers   Floral  \n",
              "1                Casual Dresses     None  \n",
              "2                        Skirts     None  \n",
              "3                       Blouses     None  \n",
              "4                     Swimsuits  Stripes  "
            ],
            "text/html": [
              "\n",
              "  <div id=\"df-2da289b9-ba70-4050-9114-bdbd2bbd73f0\">\n",
              "    <div class=\"colab-df-container\">\n",
              "      <div>\n",
              "<style scoped>\n",
              "    .dataframe tbody tr th:only-of-type {\n",
              "        vertical-align: middle;\n",
              "    }\n",
              "\n",
              "    .dataframe tbody tr th {\n",
              "        vertical-align: top;\n",
              "    }\n",
              "\n",
              "    .dataframe thead th {\n",
              "        text-align: right;\n",
              "    }\n",
              "</style>\n",
              "<table border=\"1\" class=\"dataframe\">\n",
              "  <thead>\n",
              "    <tr style=\"text-align: right;\">\n",
              "      <th></th>\n",
              "      <th>imageId</th>\n",
              "      <th>num_label</th>\n",
              "      <th>url</th>\n",
              "      <th>category</th>\n",
              "      <th>pattern</th>\n",
              "    </tr>\n",
              "  </thead>\n",
              "  <tbody>\n",
              "    <tr>\n",
              "      <th>0</th>\n",
              "      <td>1</td>\n",
              "      <td>(95, 70)</td>\n",
              "      <td>http://contestimg.wish.com/api/webimage/570f35...</td>\n",
              "      <td>Jumpsuits Overalls &amp; Rompers</td>\n",
              "      <td>Floral</td>\n",
              "    </tr>\n",
              "    <tr>\n",
              "      <th>1</th>\n",
              "      <td>2</td>\n",
              "      <td>(36, 229)</td>\n",
              "      <td>http://contestimg.wish.com/api/webimage/5468f1...</td>\n",
              "      <td>Casual Dresses</td>\n",
              "      <td>None</td>\n",
              "    </tr>\n",
              "    <tr>\n",
              "      <th>2</th>\n",
              "      <td>3</td>\n",
              "      <td>(170, 229)</td>\n",
              "      <td>http://contestimg.wish.com/api/webimage/546410...</td>\n",
              "      <td>Skirts</td>\n",
              "      <td>None</td>\n",
              "    </tr>\n",
              "    <tr>\n",
              "      <th>3</th>\n",
              "      <td>4</td>\n",
              "      <td>(18, 229)</td>\n",
              "      <td>http://contestimg.wish.com/api/webimage/550b95...</td>\n",
              "      <td>Blouses</td>\n",
              "      <td>None</td>\n",
              "    </tr>\n",
              "    <tr>\n",
              "      <th>4</th>\n",
              "      <td>5</td>\n",
              "      <td>(189, 181)</td>\n",
              "      <td>http://contestimg.wish.com/api/webimage/54451f...</td>\n",
              "      <td>Swimsuits</td>\n",
              "      <td>Stripes</td>\n",
              "    </tr>\n",
              "  </tbody>\n",
              "</table>\n",
              "</div>\n",
              "      <button class=\"colab-df-convert\" onclick=\"convertToInteractive('df-2da289b9-ba70-4050-9114-bdbd2bbd73f0')\"\n",
              "              title=\"Convert this dataframe to an interactive table.\"\n",
              "              style=\"display:none;\">\n",
              "        \n",
              "  <svg xmlns=\"http://www.w3.org/2000/svg\" height=\"24px\"viewBox=\"0 0 24 24\"\n",
              "       width=\"24px\">\n",
              "    <path d=\"M0 0h24v24H0V0z\" fill=\"none\"/>\n",
              "    <path d=\"M18.56 5.44l.94 2.06.94-2.06 2.06-.94-2.06-.94-.94-2.06-.94 2.06-2.06.94zm-11 1L8.5 8.5l.94-2.06 2.06-.94-2.06-.94L8.5 2.5l-.94 2.06-2.06.94zm10 10l.94 2.06.94-2.06 2.06-.94-2.06-.94-.94-2.06-.94 2.06-2.06.94z\"/><path d=\"M17.41 7.96l-1.37-1.37c-.4-.4-.92-.59-1.43-.59-.52 0-1.04.2-1.43.59L10.3 9.45l-7.72 7.72c-.78.78-.78 2.05 0 2.83L4 21.41c.39.39.9.59 1.41.59.51 0 1.02-.2 1.41-.59l7.78-7.78 2.81-2.81c.8-.78.8-2.07 0-2.86zM5.41 20L4 18.59l7.72-7.72 1.47 1.35L5.41 20z\"/>\n",
              "  </svg>\n",
              "      </button>\n",
              "      \n",
              "  <style>\n",
              "    .colab-df-container {\n",
              "      display:flex;\n",
              "      flex-wrap:wrap;\n",
              "      gap: 12px;\n",
              "    }\n",
              "\n",
              "    .colab-df-convert {\n",
              "      background-color: #E8F0FE;\n",
              "      border: none;\n",
              "      border-radius: 50%;\n",
              "      cursor: pointer;\n",
              "      display: none;\n",
              "      fill: #1967D2;\n",
              "      height: 32px;\n",
              "      padding: 0 0 0 0;\n",
              "      width: 32px;\n",
              "    }\n",
              "\n",
              "    .colab-df-convert:hover {\n",
              "      background-color: #E2EBFA;\n",
              "      box-shadow: 0px 1px 2px rgba(60, 64, 67, 0.3), 0px 1px 3px 1px rgba(60, 64, 67, 0.15);\n",
              "      fill: #174EA6;\n",
              "    }\n",
              "\n",
              "    [theme=dark] .colab-df-convert {\n",
              "      background-color: #3B4455;\n",
              "      fill: #D2E3FC;\n",
              "    }\n",
              "\n",
              "    [theme=dark] .colab-df-convert:hover {\n",
              "      background-color: #434B5C;\n",
              "      box-shadow: 0px 1px 3px 1px rgba(0, 0, 0, 0.15);\n",
              "      filter: drop-shadow(0px 1px 2px rgba(0, 0, 0, 0.3));\n",
              "      fill: #FFFFFF;\n",
              "    }\n",
              "  </style>\n",
              "\n",
              "      <script>\n",
              "        const buttonEl =\n",
              "          document.querySelector('#df-2da289b9-ba70-4050-9114-bdbd2bbd73f0 button.colab-df-convert');\n",
              "        buttonEl.style.display =\n",
              "          google.colab.kernel.accessAllowed ? 'block' : 'none';\n",
              "\n",
              "        async function convertToInteractive(key) {\n",
              "          const element = document.querySelector('#df-2da289b9-ba70-4050-9114-bdbd2bbd73f0');\n",
              "          const dataTable =\n",
              "            await google.colab.kernel.invokeFunction('convertToInteractive',\n",
              "                                                     [key], {});\n",
              "          if (!dataTable) return;\n",
              "\n",
              "          const docLinkHtml = 'Like what you see? Visit the ' +\n",
              "            '<a target=\"_blank\" href=https://colab.research.google.com/notebooks/data_table.ipynb>data table notebook</a>'\n",
              "            + ' to learn more about interactive tables.';\n",
              "          element.innerHTML = '';\n",
              "          dataTable['output_type'] = 'display_data';\n",
              "          await google.colab.output.renderOutput(dataTable, element);\n",
              "          const docLink = document.createElement('div');\n",
              "          docLink.innerHTML = docLinkHtml;\n",
              "          element.appendChild(docLink);\n",
              "        }\n",
              "      </script>\n",
              "    </div>\n",
              "  </div>\n",
              "  "
            ]
          },
          "metadata": {},
          "execution_count": 6
        }
      ]
    },
    {
      "cell_type": "code",
      "source": [
        "#create numerical codes for the category and pattern labels\n",
        "data.category=pd.Categorical(data.category)\n",
        "data['cat_codes']=data.category.cat.codes\n",
        "data.pattern=pd.Categorical(data.pattern)\n",
        "data['pat_codes']=data.pattern.cat.codes\n",
        "\n",
        "#make key for the codes\n",
        "pattern_key=data.groupby('pattern').mean()['pat_codes'].astype(int)\n",
        "category_key=data.groupby('category').mean()['cat_codes'].astype(int)\n",
        "category_key"
      ],
      "metadata": {
        "colab": {
          "base_uri": "https://localhost:8080/"
        },
        "id": "CYUAp3JMc7oH",
        "outputId": "920a4f9d-17f7-4640-d209-8820d9f8828b"
      },
      "execution_count": null,
      "outputs": [
        {
          "output_type": "execute_result",
          "data": {
            "text/plain": [
              "category\n",
              "Athletic Pants         0\n",
              "Athletic Shirts        1\n",
              "Athletic Shorts        2\n",
              "Batwing Tops           3\n",
              "Blouses                4\n",
              "                      ..\n",
              "Underwear             59\n",
              "Uniforms              60\n",
              "Vests                 61\n",
              "Wedding Dresses       62\n",
              "Wedges & Platforms    63\n",
              "Name: cat_codes, Length: 64, dtype: int64"
            ]
          },
          "metadata": {},
          "execution_count": 7
        }
      ]
    },
    {
      "cell_type": "code",
      "source": [
        "#urls already identified as not working\n",
        "\n",
        "bad_urls=['http://contestimg.wish.com/api/webimage/56bff1b758d90e15ce6678ab-large',\n",
        " 'http://contestimg.wish.com/api/webimage/59266d2c7840080d92f71aae-large',\n",
        " 'http://contestimg.wish.com/api/webimage/53b81620369fb20f1bdac5b1-large',\n",
        " 'http://contestimg.wish.com/api/webimage/573d7d504c8aee5d2d442273-large',\n",
        " 'http://contestimg.wish.com/api/webimage/56e62ec3a10d0f5c8bb2c76a-large',\n",
        " 'http://contestimg.wish.com/api/webimage/53aecca613e1b37ec4a8a05f-large',\n",
        " 'http://contestimg.wish.com/api/webimage/565d4726e389f7736f0c3273-large',\n",
        " 'http://contestimg.wish.com/api/webimage/5967b80fddebc172b7621eef-large',\n",
        " 'http://contestimg.wish.com/api/webimage/565930f14e364424964a299b-large',\n",
        " 'http://contestimg.wish.com/api/webimage/58b1080f0d3459553b600110-large',\n",
        " 'http://contestimg.wish.com/api/webimage/5212128d3deaf71357104a5d-large',\n",
        " 'http://contestimg.wish.com/api/webimage/52f01f1f9f5ef7425bcb89b2-large',\n",
        " 'http://contestimg.wish.com/api/webimage/53c43a6cbc06ac7c0383d50d-large',\n",
        " 'http://contestimg.wish.com/api/webimage/53c3452e60beeb110c66254d-large',\n",
        " 'http://contestimg.wish.com/api/webimage/522f851f3deaf70907580f2b-large',\n",
        " 'http://contestimg.wish.com/api/webimage/565bbe67675dec12702cf2d3-large',\n",
        " 'http://contestimg.wish.com/api/webimage/5901abf9513b402b44cc26b1-large',\n",
        " 'http://contestimg.wish.com/api/webimage/57d29b5577ba9b048e030d5c-large',\n",
        " 'http://contestimg.wish.com/api/webimage/57e5b3088e13b0132a6bedd1-large',\n",
        " 'http://contestimg.wish.com/api/webimage/54646efb1280fa054336c95a-large',\n",
        " 'http://contestimg.wish.com/api/webimage/590c3d34e0485212255dbc06-large',\n",
        " 'http://contestimg.wish.com/api/webimage/56e7029b96ce815543f50502-large']"
      ],
      "metadata": {
        "id": "TVTfqGSu17Yz"
      },
      "execution_count": null,
      "outputs": []
    },
    {
      "cell_type": "code",
      "source": [
        "#remove bad urls\n",
        "print(data.shape)\n",
        "for url in bad_urls:\n",
        "  data=data[data['url']!=url]\n",
        "\n",
        "print(data.shape)"
      ],
      "metadata": {
        "colab": {
          "base_uri": "https://localhost:8080/"
        },
        "id": "GvtMfzGu04l-",
        "outputId": "cb7ab5d9-f343-464a-e69e-ef891a237639"
      },
      "execution_count": null,
      "outputs": [
        {
          "output_type": "stream",
          "name": "stdout",
          "text": [
            "(877421, 7)\n",
            "(877399, 7)\n"
          ]
        }
      ]
    },
    {
      "cell_type": "code",
      "source": [
        "#remove already trained data\n",
        "urls=train_data['url'].to_list()\n",
        "data=data[~data['url'].isin(urls)]\n",
        "data.shape"
      ],
      "metadata": {
        "colab": {
          "base_uri": "https://localhost:8080/"
        },
        "id": "XN9XsdS0hkxp",
        "outputId": "f7355f6a-81dd-442e-bb43-9db9504d3637"
      },
      "execution_count": null,
      "outputs": [
        {
          "output_type": "execute_result",
          "data": {
            "text/plain": [
              "(811599, 7)"
            ]
          },
          "metadata": {},
          "execution_count": 18
        }
      ]
    },
    {
      "cell_type": "code",
      "source": [
        "X=data['url']\n",
        "y=data[['cat_codes','pat_codes']]\n",
        "X_use, X_extra, y_use, y_extra = train_test_split(X,y,\n",
        "                                                  test_size=.9,\n",
        "                                                  random_state=42,\n",
        "                                                  stratify=y['cat_codes'])\n",
        "\n",
        "X_train, X_val, y_train, y_val = train_test_split(X_use,y_use,\n",
        "                                                  test_size=.25,\n",
        "                                                  random_state=35,\n",
        "                                                  stratify=y_use['cat_codes'])"
      ],
      "metadata": {
        "id": "zzHdpqGJF1xv"
      },
      "execution_count": null,
      "outputs": []
    },
    {
      "cell_type": "code",
      "source": [
        "train_data=pd.concat([X_train,y_train],axis=1)\n",
        "val_data=pd.concat([X_val,y_val],axis=1)"
      ],
      "metadata": {
        "id": "JFT-JcG0I05_"
      },
      "execution_count": null,
      "outputs": []
    },
    {
      "cell_type": "markdown",
      "source": [
        "# Download Images"
      ],
      "metadata": {
        "id": "Z4ezBYEMJM4P"
      }
    },
    {
      "cell_type": "code",
      "source": [
        "#function that takes url, downloads image and saves it to google drive\n",
        "def write_im_data(url):\n",
        "\n",
        "  response=requests.get(url,stream=True)\n",
        "  im=response.content\n",
        "  \n",
        "  path='/content/drive/My Drive/fashion_annotation/imgs_train1/'\n",
        "\n",
        "  with open (path+url[-30:]+'.bin','wb') as f:\n",
        "    f.write(im)"
      ],
      "metadata": {
        "id": "B7QHmlXMWqy3"
      },
      "execution_count": null,
      "outputs": []
    },
    {
      "cell_type": "code",
      "source": [
        "#Test if the urls in train_data and val_data are present in directory\n",
        "\n",
        "def find_missing_urls(urls):\n",
        "  bad_urls=[] \n",
        "\n",
        "  for url in urls:\n",
        "    try:\n",
        "      with open(path+url[-30:]+'.bin','rb') as f:\n",
        "        im=f.read()\n",
        "    except Exception as e:\n",
        "      bad_urls.append(url)\n",
        "    \n",
        "  return bad_urls\n",
        "\n",
        "#test if images in directory open properly\n",
        "def test_urls(urls):\n",
        "  bad_urls=[] \n",
        "\n",
        "  for url in urls:\n",
        "    try:\n",
        "      with open(val_path+url[-30:]+'.bin','rb') as f:\n",
        "        im=f.read()\n",
        "        byte_im=io.BytesIO(im)\n",
        "        #byte_im.seek(0)\n",
        "        img=Image.open(byte_im)\n",
        "    except Exception as e:\n",
        "      bad_urls.append(url)\n",
        "  return bad_urls"
      ],
      "metadata": {
        "id": "Gq5QA0Zwc2Pf"
      },
      "execution_count": null,
      "outputs": []
    },
    {
      "cell_type": "code",
      "source": [
        "bad_urls=test_urls(val_data['url'].to_list())\n",
        "bad_urls"
      ],
      "metadata": {
        "colab": {
          "base_uri": "https://localhost:8080/"
        },
        "id": "YOxtVSFVrbwo",
        "outputId": "c8602f64-10d4-43d7-90f2-8422d880ac60"
      },
      "execution_count": null,
      "outputs": [
        {
          "output_type": "execute_result",
          "data": {
            "text/plain": [
              "['http://contestimg.wish.com/api/webimage/58071ba2faedca3971965fc9-large',\n",
              " 'http://contestimg.wish.com/api/webimage/55520e4289b62d0e7b49f8fb-large',\n",
              " 'http://contestimg.wish.com/api/webimage/53bf50ba4497c54f0fa98eb1-large']"
            ]
          },
          "metadata": {},
          "execution_count": 13
        }
      ]
    },
    {
      "cell_type": "code",
      "source": [
        "len(bad_urls)"
      ],
      "metadata": {
        "id": "pYuI4BLZVYvM"
      },
      "execution_count": null,
      "outputs": []
    },
    {
      "cell_type": "code",
      "source": [
        ""
      ],
      "metadata": {
        "id": "RGOlYVtuIU-j"
      },
      "execution_count": null,
      "outputs": []
    },
    {
      "cell_type": "code",
      "source": [
        "bad_urls=['http://contestimg.wish.com/api/webimage/557e3cdea99ea11a2ae188ba-large',\n",
        " 'http://contestimg.wish.com/api/webimage/5714a2980c55dd5d13cd5ac6-large',\n",
        " 'http://contestimg.wish.com/api/webimage/54704bcc4268f40f267e7ef5-large',\n",
        " 'http://contestimg.wish.com/api/webimage/53cd1540ff4d6d4352019f5b-large',\n",
        " 'http://contestimg.wish.com/api/webimage/579eeed89d2222559d162d38-large',\n",
        " 'http://contestimg.wish.com/api/webimage/59492523c3819c72d8a1109a-large',\n",
        " 'http://contestimg.wish.com/api/webimage/56a9b8b1f7e88a6e06b48913-large',\n",
        " 'http://contestimg.wish.com/api/webimage/56f33bcf9b5555728e56acbc-large',\n",
        " 'http://contestimg.wish.com/api/webimage/56b8bec719cd440fbeaf7895-large',\n",
        " 'http://contestimg.wish.com/api/webimage/570afe9aae8c935408fdee4c-large',\n",
        " 'http://contestimg.wish.com/api/webimage/5a17ea3efb04de7c25ddc679-large',\n",
        " 'http://contestimg.wish.com/api/webimage/592a31fad1f7d860ab8c3420-large',\n",
        " 'http://contestimg.wish.com/api/webimage/57bbca5dcd6fc631c5a629e0-large',\n",
        " 'http://contestimg.wish.com/api/webimage/5645ac1b089f483492ae4cc8-large',\n",
        " 'http://contestimg.wish.com/api/webimage/5412f5197541ce5a541897e6-large',\n",
        " 'http://contestimg.wish.com/api/webimage/539e9b18a4e89a16c8919d6d-large',\n",
        " 'http://contestimg.wish.com/api/webimage/53270b1eab980a3197736ac4-large',\n",
        " 'http://contestimg.wish.com/api/webimage/59f75aea061be94714e874d5-large',\n",
        " 'http://contestimg.wish.com/api/webimage/530e3144548f4a1b5ef1a533-large',\n",
        " 'http://contestimg.wish.com/api/webimage/572e00325cb0e75effb350aa-large',\n",
        " 'http://contestimg.wish.com/api/webimage/561e4f7d32094f12c0bcfd89-large',\n",
        " 'http://contestimg.wish.com/api/webimage/53cf53695a4837415047be0e-large',\n",
        " 'http://contestimg.wish.com/api/webimage/526d1c2af70e390d1d85bfc1-large',\n",
        " 'http://contestimg.wish.com/api/webimage/534cf7417360463b4de14f6e-large'\n",
        "]"
      ],
      "metadata": {
        "id": "0W3eKEOd2GIP"
      },
      "execution_count": null,
      "outputs": []
    },
    {
      "cell_type": "code",
      "source": [
        "urls=train_data['url'].to_list()[1139:]"
      ],
      "metadata": {
        "id": "uWEeVQJHDrfK"
      },
      "execution_count": null,
      "outputs": []
    },
    {
      "cell_type": "code",
      "source": [
        "count=0\n",
        "for url in urls:\n",
        "  write_im_data(url)\n",
        "  count+=1\n",
        "  print(count)\n"
      ],
      "metadata": {
        "id": "YIrh83DZl_p5"
      },
      "execution_count": null,
      "outputs": []
    },
    {
      "cell_type": "code",
      "source": [
        "print(train_data.shape)\n",
        "print(val_data.shape)\n",
        "for url in bad_urls:\n",
        "  train_data=train_data[train_data['url']!=url]\n",
        "  val_data=val_data[val_data['url']!=url]\n",
        "\n",
        "print(train_data.shape)\n",
        "print(val_data.shape)"
      ],
      "metadata": {
        "colab": {
          "base_uri": "https://localhost:8080/"
        },
        "id": "aJ5U-B64Cm5P",
        "outputId": "fb321fa7-7799-4db5-cfa0-448b4eeec430"
      },
      "execution_count": null,
      "outputs": [
        {
          "output_type": "stream",
          "name": "stdout",
          "text": [
            "(60850, 3)\n",
            "(20285, 3)\n",
            "(60850, 3)\n",
            "(20282, 3)\n"
          ]
        }
      ]
    },
    {
      "cell_type": "code",
      "source": [
        "train_data.to_csv('/content/drive/My Drive/fashion_annotation/train_data_1.csv',index=False)\n",
        "val_data.to_csv('/content/drive/My Drive/fashion_annotation/val_data_1.csv',index=False)"
      ],
      "metadata": {
        "id": "rtnUkaz3CyGg"
      },
      "execution_count": null,
      "outputs": []
    },
    {
      "cell_type": "markdown",
      "source": [
        "# Load Prepared Data"
      ],
      "metadata": {
        "id": "AnLG3QxHGtS2"
      }
    },
    {
      "cell_type": "code",
      "source": [
        "train_data=pd.read_csv('/content/drive/My Drive/fashion_annotation/train_data_1.csv')\n",
        "val_data=pd.read_csv('/content/drive/My Drive/fashion_annotation/val_data_1.csv')"
      ],
      "metadata": {
        "id": "JdT6hFWjXL8Z"
      },
      "execution_count": null,
      "outputs": []
    },
    {
      "cell_type": "code",
      "source": [
        "cat_num=len(train_data['cat_codes'].unique())\n",
        "pat_num=len(train_data['pat_codes'].unique())\n",
        "print(cat_num)\n",
        "print(pat_num)"
      ],
      "metadata": {
        "colab": {
          "base_uri": "https://localhost:8080/"
        },
        "id": "xUSpoIedu9iT",
        "outputId": "9568c6f4-49ed-4790-eb86-623e4767416f"
      },
      "execution_count": null,
      "outputs": [
        {
          "output_type": "stream",
          "name": "stdout",
          "text": [
            "64\n",
            "23\n"
          ]
        }
      ]
    },
    {
      "cell_type": "code",
      "source": [
        "len(val_data['cat_codes'].unique())"
      ],
      "metadata": {
        "colab": {
          "base_uri": "https://localhost:8080/"
        },
        "id": "uqdLot64vtHy",
        "outputId": "bfe41e1c-28d3-4827-d96f-067c554ceee8"
      },
      "execution_count": null,
      "outputs": [
        {
          "output_type": "execute_result",
          "data": {
            "text/plain": [
              "64"
            ]
          },
          "metadata": {},
          "execution_count": 10
        }
      ]
    },
    {
      "cell_type": "code",
      "source": [
        "len(val_data['pat_codes'].unique())"
      ],
      "metadata": {
        "colab": {
          "base_uri": "https://localhost:8080/"
        },
        "id": "l1OYobwPv0O-",
        "outputId": "10d19190-41dd-460f-e7fd-7a6410dd3446"
      },
      "execution_count": null,
      "outputs": [
        {
          "output_type": "execute_result",
          "data": {
            "text/plain": [
              "24"
            ]
          },
          "metadata": {},
          "execution_count": 11
        }
      ]
    },
    {
      "cell_type": "code",
      "source": [
        "y_col_dict={'pattern':'pat_codes','category':'cat_codes'}"
      ],
      "metadata": {
        "id": "6r8HVTX2Mb9K"
      },
      "execution_count": null,
      "outputs": []
    },
    {
      "cell_type": "markdown",
      "source": [
        "# Build Custom Image Generator"
      ],
      "metadata": {
        "id": "LS_A28WO_r3V"
      }
    },
    {
      "cell_type": "markdown",
      "source": [
        "Build a custom data generator that downloads images for a batch, resize, convert to numpy array.  We need a custom generator since we are downloading the files directly from a url and converting from byte encoded format.\n",
        "\n",
        "Look at image augmentation options once model is working."
      ],
      "metadata": {
        "id": "20mX68RXCRJb"
      }
    },
    {
      "cell_type": "code",
      "source": [
        "class CustomImageGen(Sequence):\n",
        "  def __init__(self, df, X_col, y_col,\n",
        "               batch_size,\n",
        "               path,\n",
        "               input_size=(224,224,3),\n",
        "               shuffle=True):\n",
        "    self.df = df\n",
        "    self.X_col = X_col\n",
        "    self.y_col = y_col\n",
        "    self.batch_size = batch_size\n",
        "    self.input_size = input_size\n",
        "    self.shuffle = shuffle\n",
        "    self.path = path \n",
        "\n",
        "    self.n = len(self.df)\n",
        "    self.n_cat = df[y_col['category']].nunique()\n",
        "    self.n_pat = df[y_col['pattern']].nunique()\n",
        "  \n",
        "  def on_epoch_end(self):\n",
        "    if self.shuffle:\n",
        "      self.df = self.df.sample(frac=1).reset_index(drop=True)\n",
        "\n",
        "  def __getim_(self,url):\n",
        "    \"\"\"\n",
        "    download image from url, open from byte string format,\n",
        "    resize and convert to np array (224,224,3)\n",
        "    \"\"\"\n",
        "    #print(url)\n",
        "    #response=requests.get(url,stream=True)\n",
        "    #im=response.content\n",
        "    with open(self.path+url[-30:]+'.bin','rb') as f:\n",
        "      im=f.read()\n",
        "    byte_im=io.BytesIO(im)\n",
        "    #byte_im.seek(0)\n",
        "    img=Image.open(byte_im)\n",
        "    img_sized=img.resize((224,224))\n",
        "    im_array=np.asarray(img_sized)\n",
        "    return im_array\n",
        "\n",
        "  def __get_images(self,url_batch):\n",
        "    \"\"\"\n",
        "    initiate image array for batch, \n",
        "    call __getim_ to load each image to array\n",
        "    preprocess batch for VGG and return array size (batch_size,224,224,3)\n",
        "    \"\"\"\n",
        "    dims=[x for x in self.input_size]\n",
        "    im_array=np.zeros((self.batch_size,dims[0],dims[1],dims[2]))\n",
        "\n",
        "    for count,url in enumerate(url_batch):\n",
        "      im_array[count,:,:,:]=self.__getim_(url)\n",
        "\n",
        "    #preprocess for VGG and return\n",
        "    return preprocess_input(im_array)\n",
        "\n",
        "  def __get_data(self, batches):\n",
        "    url_batch = batches[self.X_col]\n",
        "\n",
        "    cat_batch = batches[self.y_col['category']]\n",
        "    pat_batch = batches[self.y_col['pattern']]\n",
        "\n",
        "    X_array = self.__get_images(url_batch)\n",
        "\n",
        "    #ohe the output labels\n",
        "    y_cat=to_categorical(cat_batch,self.n_cat)\n",
        "    y_pat=to_categorical(pat_batch,self.n_pat)\n",
        "\n",
        "    return X_array, (y_cat,y_pat)\n",
        "\n",
        "  def __getitem__(self, index):\n",
        "    batches=self.df[index*self.batch_size:(index+1)*self.batch_size]\n",
        "    X, y = self.__get_data(batches)\n",
        "    return X, y\n",
        "\n",
        "  def __len__(self):\n",
        "    return self.n // self.batch_size\n"
      ],
      "metadata": {
        "id": "GXvcIjzw_vup"
      },
      "execution_count": null,
      "outputs": []
    },
    {
      "cell_type": "markdown",
      "source": [
        "# Build Model"
      ],
      "metadata": {
        "id": "4IMMGFbLE1A5"
      }
    },
    {
      "cell_type": "code",
      "source": [
        "vgg=VGG16(input_shape=IMAGE_SIZE, weights='imagenet', include_top=False)\n",
        "vgg.trainable=False"
      ],
      "metadata": {
        "id": "3Ec5yVppERB8",
        "colab": {
          "base_uri": "https://localhost:8080/"
        },
        "outputId": "c52a0717-a731-4d59-922e-b6d70985b2c1"
      },
      "execution_count": null,
      "outputs": [
        {
          "output_type": "stream",
          "name": "stdout",
          "text": [
            "Downloading data from https://storage.googleapis.com/tensorflow/keras-applications/vgg16/vgg16_weights_tf_dim_ordering_tf_kernels_notop.h5\n",
            "58892288/58889256 [==============================] - 0s 0us/step\n",
            "58900480/58889256 [==============================] - 0s 0us/step\n"
          ]
        }
      ]
    },
    {
      "cell_type": "code",
      "source": [
        "inputs=Input(shape=IMAGE_SIZE)\n",
        "\n",
        "x = vgg(inputs, training=False)\n",
        "\n",
        "#Convert features of output shape to vectors\n",
        "branch = GlobalAveragePooling2D()(x)\n",
        "\n",
        "#Category Prediction Branch\n",
        "cat_branch1 = Dense(512, activation='relu')(branch)\n",
        "cat_branch2 = Dense(256, activation='relu')(cat_branch1)\n",
        "cat_pred=Dense(cat_num, activation='softmax')(cat_branch2)\n",
        "\n",
        "#Pattern Prediction Branch\n",
        "\n",
        "pat_branch1 = Dense(512, activation='relu')(branch)\n",
        "pat_branch2 = Dense(256, activation='relu')(pat_branch1)\n",
        "pat_pred=Dense(pat_num, activation='softmax')(pat_branch2)\n",
        "\n",
        "model=Model(inputs,outputs=[cat_pred,pat_pred])"
      ],
      "metadata": {
        "id": "Cy04crnyI2Aw"
      },
      "execution_count": null,
      "outputs": []
    },
    {
      "cell_type": "code",
      "source": [
        "model.summary()"
      ],
      "metadata": {
        "colab": {
          "base_uri": "https://localhost:8080/"
        },
        "id": "qzNMXwv1eL94",
        "outputId": "1920219e-217e-4ec7-cb51-83b2094033db"
      },
      "execution_count": null,
      "outputs": [
        {
          "output_type": "stream",
          "name": "stdout",
          "text": [
            "Model: \"model\"\n",
            "__________________________________________________________________________________________________\n",
            " Layer (type)                   Output Shape         Param #     Connected to                     \n",
            "==================================================================================================\n",
            " input_2 (InputLayer)           [(None, 224, 224, 3  0           []                               \n",
            "                                )]                                                                \n",
            "                                                                                                  \n",
            " vgg16 (Functional)             (None, 7, 7, 512)    14714688    ['input_2[0][0]']                \n",
            "                                                                                                  \n",
            " global_average_pooling2d (Glob  (None, 512)         0           ['vgg16[0][0]']                  \n",
            " alAveragePooling2D)                                                                              \n",
            "                                                                                                  \n",
            " dense (Dense)                  (None, 512)          262656      ['global_average_pooling2d[0][0]'\n",
            "                                                                 ]                                \n",
            "                                                                                                  \n",
            " dense_3 (Dense)                (None, 512)          262656      ['global_average_pooling2d[0][0]'\n",
            "                                                                 ]                                \n",
            "                                                                                                  \n",
            " dense_1 (Dense)                (None, 256)          131328      ['dense[0][0]']                  \n",
            "                                                                                                  \n",
            " dense_4 (Dense)                (None, 256)          131328      ['dense_3[0][0]']                \n",
            "                                                                                                  \n",
            " dense_2 (Dense)                (None, 64)           16448       ['dense_1[0][0]']                \n",
            "                                                                                                  \n",
            " dense_5 (Dense)                (None, 23)           5911        ['dense_4[0][0]']                \n",
            "                                                                                                  \n",
            "==================================================================================================\n",
            "Total params: 15,525,015\n",
            "Trainable params: 810,327\n",
            "Non-trainable params: 14,714,688\n",
            "__________________________________________________________________________________________________\n"
          ]
        }
      ]
    },
    {
      "cell_type": "code",
      "source": [
        "# Defining losses for each output\n",
        "losses ={ 'dense_2':CategoricalCrossentropy(),\n",
        "    'dense_5':CategoricalCrossentropy()}\n",
        "\n",
        "model.compile(\n",
        "    loss=losses,\n",
        "    optimizer='adam',\n",
        "    metrics=['accuracy']\n",
        ")"
      ],
      "metadata": {
        "id": "vvqSRPgWeTQG"
      },
      "execution_count": null,
      "outputs": []
    },
    {
      "cell_type": "code",
      "source": [
        "import pickle\n",
        "with open('/content/drive/My Drive/fashion_annotation/model_1.pickle', 'rb') as f:\n",
        "  model=pickle.load(f)"
      ],
      "metadata": {
        "id": "4bsEAYfQJ4Xx"
      },
      "execution_count": null,
      "outputs": []
    },
    {
      "cell_type": "code",
      "source": [
        "with open('/content/drive/My Drive/fashion_annotation/results_mod1.pickle', 'rb') as f:\n",
        "  results=pickle.load(f)\n",
        "results"
      ],
      "metadata": {
        "colab": {
          "base_uri": "https://localhost:8080/"
        },
        "id": "YAsNDQY3KKfV",
        "outputId": "1d062df8-1a1b-4c86-dd1c-d5dd2caab240"
      },
      "execution_count": null,
      "outputs": [
        {
          "output_type": "execute_result",
          "data": {
            "text/plain": [
              "<keras.callbacks.History at 0x7f6e9fc64a50>"
            ]
          },
          "metadata": {},
          "execution_count": 52
        }
      ]
    },
    {
      "cell_type": "code",
      "source": [
        "model.summary()"
      ],
      "metadata": {
        "colab": {
          "base_uri": "https://localhost:8080/"
        },
        "id": "qY_GiY9HL8qX",
        "outputId": "f45cf26f-5427-4cf2-b1bc-f7ee359b805e"
      },
      "execution_count": null,
      "outputs": [
        {
          "output_type": "stream",
          "name": "stdout",
          "text": [
            "Model: \"model\"\n",
            "__________________________________________________________________________________________________\n",
            " Layer (type)                   Output Shape         Param #     Connected to                     \n",
            "==================================================================================================\n",
            " input_2 (InputLayer)           [(None, 224, 224, 3  0           []                               \n",
            "                                )]                                                                \n",
            "                                                                                                  \n",
            " vgg16 (Functional)             (None, 7, 7, 512)    14714688    ['input_2[0][0]']                \n",
            "                                                                                                  \n",
            " global_average_pooling2d (Glob  (None, 512)         0           ['vgg16[0][0]']                  \n",
            " alAveragePooling2D)                                                                              \n",
            "                                                                                                  \n",
            " dense (Dense)                  (None, 512)          262656      ['global_average_pooling2d[0][0]'\n",
            "                                                                 ]                                \n",
            "                                                                                                  \n",
            " dense_3 (Dense)                (None, 512)          262656      ['global_average_pooling2d[0][0]'\n",
            "                                                                 ]                                \n",
            "                                                                                                  \n",
            " dense_1 (Dense)                (None, 256)          131328      ['dense[0][0]']                  \n",
            "                                                                                                  \n",
            " dense_4 (Dense)                (None, 256)          131328      ['dense_3[0][0]']                \n",
            "                                                                                                  \n",
            " dense_2 (Dense)                (None, 64)           16448       ['dense_1[0][0]']                \n",
            "                                                                                                  \n",
            " dense_5 (Dense)                (None, 23)           5911        ['dense_4[0][0]']                \n",
            "                                                                                                  \n",
            "==================================================================================================\n",
            "Total params: 15,525,015\n",
            "Trainable params: 810,327\n",
            "Non-trainable params: 14,714,688\n",
            "__________________________________________________________________________________________________\n"
          ]
        }
      ]
    },
    {
      "cell_type": "code",
      "source": [
        "train_data.shape"
      ],
      "metadata": {
        "colab": {
          "base_uri": "https://localhost:8080/"
        },
        "id": "QtomvNpeMDMl",
        "outputId": "650c301a-01b2-4330-ab4f-beefc6d623e0"
      },
      "execution_count": null,
      "outputs": [
        {
          "output_type": "execute_result",
          "data": {
            "text/plain": [
              "(60860, 3)"
            ]
          },
          "metadata": {},
          "execution_count": 14
        }
      ]
    },
    {
      "cell_type": "code",
      "source": [
        "train_path='/content/drive/My Drive/fashion_annotation/imgs_train1/'\n",
        "traingen = CustomImageGen(\n",
        "    train_data, 'url', y_col_dict, batch_size=32, path=train_path\n",
        ")\n",
        "\n",
        "val_path='/content/drive/My Drive/fashion_annotation/imgs_val1/'\n",
        "valgen = CustomImageGen(\n",
        "    val_data, 'url', y_col_dict, batch_size=32, path=val_path\n",
        ")\n",
        "\n",
        "\n",
        "results = model.fit(traingen,\n",
        "                    validation_data=valgen,\n",
        "                    epochs=3)"
      ],
      "metadata": {
        "id": "zozBp2dBg7ac",
        "colab": {
          "base_uri": "https://localhost:8080/"
        },
        "outputId": "1ac93437-f39d-441e-cbb7-8fa97e4cfc1e"
      },
      "execution_count": null,
      "outputs": [
        {
          "output_type": "stream",
          "name": "stdout",
          "text": [
            "Epoch 1/3\n",
            "1901/1901 [==============================] - 19503s 10s/step - loss: 2.8963 - dense_2_loss: 1.9614 - dense_5_loss: 0.9348 - dense_2_accuracy: 0.4487 - dense_5_accuracy: 0.7553 - val_loss: 2.9065 - val_dense_2_loss: 1.9279 - val_dense_5_loss: 0.9786 - val_dense_2_accuracy: 0.4612 - val_dense_5_accuracy: 0.7502\n",
            "Epoch 2/3\n",
            "1901/1901 [==============================] - 1068s 562ms/step - loss: 2.6792 - dense_2_loss: 1.8030 - dense_5_loss: 0.8762 - dense_2_accuracy: 0.4764 - dense_5_accuracy: 0.7619 - val_loss: 2.8664 - val_dense_2_loss: 1.9090 - val_dense_5_loss: 0.9574 - val_dense_2_accuracy: 0.4643 - val_dense_5_accuracy: 0.7503\n",
            "Epoch 3/3\n",
            "1901/1901 [==============================] - 1054s 554ms/step - loss: 2.5367 - dense_2_loss: 1.6991 - dense_5_loss: 0.8376 - dense_2_accuracy: 0.4975 - dense_5_accuracy: 0.7674 - val_loss: 2.8992 - val_dense_2_loss: 1.9328 - val_dense_5_loss: 0.9664 - val_dense_2_accuracy: 0.4634 - val_dense_5_accuracy: 0.7486\n"
          ]
        }
      ]
    },
    {
      "cell_type": "code",
      "source": [
        "import pickle\n",
        "with open('/content/drive/My Drive/fashion_annotation/model_2.pickle', 'wb') as f:\n",
        "  pickle.dump(model, f)\n",
        "\n",
        "with open('/content/drive/My Drive/fashion_annotation/results_mod2.pickle', 'wb') as f:\n",
        "  pickle.dump(results, f)"
      ],
      "metadata": {
        "colab": {
          "base_uri": "https://localhost:8080/"
        },
        "id": "m4C3--2ZuS6W",
        "outputId": "945aa927-f19b-4845-d6ee-6f69ea449433"
      },
      "execution_count": null,
      "outputs": [
        {
          "output_type": "stream",
          "name": "stdout",
          "text": [
            "INFO:tensorflow:Assets written to: ram://aa687c3c-6a0a-4d81-8fa9-21129c0911e4/assets\n",
            "INFO:tensorflow:Assets written to: ram://cb09dedf-87bb-41e2-a834-c76547cd238b/assets\n"
          ]
        }
      ]
    },
    {
      "cell_type": "code",
      "source": [
        "with open('/content/drive/My Drive/fashion_annotation/imgs_train1/55dac9821ed32a104eeb1f14-large.bin', 'rb') as f:\n",
        "  im=f.read()"
      ],
      "metadata": {
        "id": "a-RSfWD7vcSV"
      },
      "execution_count": null,
      "outputs": []
    },
    {
      "cell_type": "code",
      "source": [
        "train_data['url'].head()"
      ],
      "metadata": {
        "colab": {
          "base_uri": "https://localhost:8080/"
        },
        "id": "FXY22sFT0E6y",
        "outputId": "01c3ebee-3eee-436a-fba2-3921dac23a44"
      },
      "execution_count": null,
      "outputs": [
        {
          "output_type": "execute_result",
          "data": {
            "text/plain": [
              "0    http://contestimg.wish.com/api/webimage/55dac9...\n",
              "1    http://contestimg.wish.com/api/webimage/5775dc...\n",
              "2    http://contestimg.wish.com/api/webimage/584441...\n",
              "3    http://contestimg.wish.com/api/webimage/5a0818...\n",
              "4    http://contestimg.wish.com/api/webimage/537835...\n",
              "Name: url, dtype: object"
            ]
          },
          "metadata": {},
          "execution_count": 16
        }
      ]
    },
    {
      "cell_type": "code",
      "source": [
        "urls=train_data['url']\n",
        "bad_urls=[] \n",
        "\n",
        "for url in urls:\n",
        "  try:\n",
        "    with open(path+url[-30:]+'.bin','rb') as f:\n",
        "      im=f.read()\n",
        "    byte_im=io.BytesIO(im)\n",
        "    #byte_im.seek(0)\n",
        "    img=Image.open(byte_im)\n",
        "  except Exception as e:\n",
        "    bad_urls.append(url)\n",
        "\n",
        "bad_urls"
      ],
      "metadata": {
        "colab": {
          "base_uri": "https://localhost:8080/"
        },
        "id": "ft3QZilMNTaG",
        "outputId": "00b7b590-9c50-4e9f-acc8-cb818cea83c6"
      },
      "execution_count": null,
      "outputs": [
        {
          "output_type": "execute_result",
          "data": {
            "text/plain": [
              "['http://contestimg.wish.com/api/webimage/56bff1b758d90e15ce6678ab-large',\n",
              " 'http://contestimg.wish.com/api/webimage/59266d2c7840080d92f71aae-large',\n",
              " 'http://contestimg.wish.com/api/webimage/53b81620369fb20f1bdac5b1-large',\n",
              " 'http://contestimg.wish.com/api/webimage/573d7d504c8aee5d2d442273-large',\n",
              " 'http://contestimg.wish.com/api/webimage/56e62ec3a10d0f5c8bb2c76a-large',\n",
              " 'http://contestimg.wish.com/api/webimage/53aecca613e1b37ec4a8a05f-large',\n",
              " 'http://contestimg.wish.com/api/webimage/565d4726e389f7736f0c3273-large',\n",
              " 'http://contestimg.wish.com/api/webimage/5967b80fddebc172b7621eef-large',\n",
              " 'http://contestimg.wish.com/api/webimage/565930f14e364424964a299b-large',\n",
              " 'http://contestimg.wish.com/api/webimage/58b1080f0d3459553b600110-large',\n",
              " 'http://contestimg.wish.com/api/webimage/5212128d3deaf71357104a5d-large']"
            ]
          },
          "metadata": {},
          "execution_count": 34
        }
      ]
    },
    {
      "cell_type": "code",
      "source": [
        "bad_urls=['http://contestimg.wish.com/api/webimage/56bff1b758d90e15ce6678ab-large',\n",
        " 'http://contestimg.wish.com/api/webimage/59266d2c7840080d92f71aae-large',\n",
        " 'http://contestimg.wish.com/api/webimage/53b81620369fb20f1bdac5b1-large',\n",
        " 'http://contestimg.wish.com/api/webimage/573d7d504c8aee5d2d442273-large',\n",
        " 'http://contestimg.wish.com/api/webimage/56e62ec3a10d0f5c8bb2c76a-large',\n",
        " 'http://contestimg.wish.com/api/webimage/53aecca613e1b37ec4a8a05f-large',\n",
        " 'http://contestimg.wish.com/api/webimage/565d4726e389f7736f0c3273-large',\n",
        " 'http://contestimg.wish.com/api/webimage/5967b80fddebc172b7621eef-large',\n",
        " 'http://contestimg.wish.com/api/webimage/565930f14e364424964a299b-large',\n",
        " 'http://contestimg.wish.com/api/webimage/58b1080f0d3459553b600110-large',\n",
        " 'http://contestimg.wish.com/api/webimage/5212128d3deaf71357104a5d-large']"
      ],
      "metadata": {
        "id": "Z0AcXawp0Nuq"
      },
      "execution_count": null,
      "outputs": []
    },
    {
      "cell_type": "code",
      "source": [
        "train_data.shape"
      ],
      "metadata": {
        "colab": {
          "base_uri": "https://localhost:8080/"
        },
        "id": "tomSEXeKLYld",
        "outputId": "3ba80aad-a260-4d93-8864-61c197a1754d"
      },
      "execution_count": null,
      "outputs": [
        {
          "output_type": "execute_result",
          "data": {
            "text/plain": [
              "(65814, 3)"
            ]
          },
          "metadata": {},
          "execution_count": 12
        }
      ]
    },
    {
      "cell_type": "code",
      "source": [
        "val_data.shape"
      ],
      "metadata": {
        "colab": {
          "base_uri": "https://localhost:8080/"
        },
        "id": "fqPI6Z8OLbjP",
        "outputId": "257df511-9221-47b0-bfde-6696a8b4cbe2"
      },
      "execution_count": null,
      "outputs": [
        {
          "output_type": "execute_result",
          "data": {
            "text/plain": [
              "(21938, 3)"
            ]
          },
          "metadata": {},
          "execution_count": 13
        }
      ]
    },
    {
      "cell_type": "code",
      "source": [
        "gen = CustomImageGen(\n",
        "    train_data, 'url', y_col_dict, batch_size=32\n",
        ")\n",
        "\n",
        "batch=gen.__getitem__(0)"
      ],
      "metadata": {
        "id": "0xCH0wp2MxYf"
      },
      "execution_count": null,
      "outputs": []
    },
    {
      "cell_type": "code",
      "source": [
        "batch"
      ],
      "metadata": {
        "colab": {
          "base_uri": "https://localhost:8080/"
        },
        "id": "oQiGwsuMM3Gn",
        "outputId": "51f687c4-2424-49d1-bd14-0b08f2fe158c"
      },
      "execution_count": null,
      "outputs": [
        {
          "output_type": "execute_result",
          "data": {
            "text/plain": [
              "(array([[[[  43.061,   15.221,   59.32 ],\n",
              "          [  44.061,   16.221,   60.32 ],\n",
              "          [  45.061,   17.221,   61.32 ],\n",
              "          ...,\n",
              "          [  43.061,   17.221,   62.32 ],\n",
              "          [  42.061,   17.221,   60.32 ],\n",
              "          [  42.061,   17.221,   59.32 ]],\n",
              " \n",
              "         [[  44.061,   16.221,   60.32 ],\n",
              "          [  44.061,   16.221,   60.32 ],\n",
              "          [  45.061,   17.221,   61.32 ],\n",
              "          ...,\n",
              "          [  45.061,   19.221,   63.32 ],\n",
              "          [  43.061,   18.221,   61.32 ],\n",
              "          [  41.061,   16.221,   57.32 ]],\n",
              " \n",
              "         [[  44.061,   16.221,   60.32 ],\n",
              "          [  45.061,   17.221,   61.32 ],\n",
              "          [  46.061,   18.221,   62.32 ],\n",
              "          ...,\n",
              "          [  45.061,   19.221,   63.32 ],\n",
              "          [  43.061,   18.221,   61.32 ],\n",
              "          [  42.061,   17.221,   58.32 ]],\n",
              " \n",
              "         ...,\n",
              " \n",
              "         [[ -12.939,  -28.779,   33.32 ],\n",
              "          [ -12.939,  -28.779,   33.32 ],\n",
              "          [ -11.939,  -27.779,   34.32 ],\n",
              "          ...,\n",
              "          [ -66.939,  -46.779,  -20.68 ],\n",
              "          [ -63.939,  -43.779,  -17.68 ],\n",
              "          [ -67.939,  -46.779,  -20.68 ]],\n",
              " \n",
              "         [[ -11.939,  -28.779,   30.32 ],\n",
              "          [ -11.939,  -28.779,   31.32 ],\n",
              "          [ -11.939,  -27.779,   32.32 ],\n",
              "          ...,\n",
              "          [ -63.939,  -43.779,  -20.68 ],\n",
              "          [ -60.939,  -42.779,  -17.68 ],\n",
              "          [ -64.939,  -49.779,  -22.68 ]],\n",
              " \n",
              "         [[ -12.939,  -29.779,   28.32 ],\n",
              "          [ -11.939,  -28.779,   30.32 ],\n",
              "          [ -11.939,  -27.779,   31.32 ],\n",
              "          ...,\n",
              "          [ -64.939,  -43.779,  -21.68 ],\n",
              "          [ -69.939,  -51.779,  -25.68 ],\n",
              "          [ -78.939,  -62.779,  -35.68 ]]],\n",
              " \n",
              " \n",
              "        [[[ 135.061,  122.221,  115.32 ],\n",
              "          [ 136.061,  123.221,  116.32 ],\n",
              "          [ 136.061,  123.221,  116.32 ],\n",
              "          ...,\n",
              "          [ 134.061,  121.221,  114.32 ],\n",
              "          [ 132.061,  119.221,  112.32 ],\n",
              "          [ 125.061,  112.221,  105.32 ]],\n",
              " \n",
              "         [[ 131.061,  118.221,  111.32 ],\n",
              "          [ 134.061,  121.221,  114.32 ],\n",
              "          [ 127.061,  114.221,  107.32 ],\n",
              "          ...,\n",
              "          [ 126.061,  113.221,  106.32 ],\n",
              "          [ 130.061,  117.221,  110.32 ],\n",
              "          [ 126.061,  113.221,  106.32 ]],\n",
              " \n",
              "         [[ 125.061,  112.221,  105.32 ],\n",
              "          [ 132.061,  119.221,  112.32 ],\n",
              "          [ 133.061,  120.221,  113.32 ],\n",
              "          ...,\n",
              "          [ 131.061,  118.221,  111.32 ],\n",
              "          [ 135.061,  122.221,  115.32 ],\n",
              "          [ 134.061,  121.221,  114.32 ]],\n",
              " \n",
              "         ...,\n",
              " \n",
              "         [[ 132.061,  119.221,  112.32 ],\n",
              "          [ 131.061,  118.221,  111.32 ],\n",
              "          [ 125.061,  112.221,  105.32 ],\n",
              "          ...,\n",
              "          [ 129.061,  116.221,  109.32 ],\n",
              "          [ 130.061,  117.221,  110.32 ],\n",
              "          [ 125.061,  112.221,  105.32 ]],\n",
              " \n",
              "         [[ 127.061,  114.221,  107.32 ],\n",
              "          [ 128.061,  115.221,  108.32 ],\n",
              "          [ 127.061,  114.221,  107.32 ],\n",
              "          ...,\n",
              "          [ 124.061,  111.221,  104.32 ],\n",
              "          [ 132.061,  119.221,  112.32 ],\n",
              "          [ 131.061,  118.221,  111.32 ]],\n",
              " \n",
              "         [[ 130.061,  117.221,  110.32 ],\n",
              "          [ 132.061,  119.221,  112.32 ],\n",
              "          [ 125.061,  112.221,  105.32 ],\n",
              "          ...,\n",
              "          [ 131.061,  118.221,  111.32 ],\n",
              "          [ 132.061,  119.221,  112.32 ],\n",
              "          [ 129.061,  116.221,  109.32 ]]],\n",
              " \n",
              " \n",
              "        [[[ 129.061,  113.221,   98.32 ],\n",
              "          [ 129.061,  115.221,   97.32 ],\n",
              "          [ 133.061,  118.221,  102.32 ],\n",
              "          ...,\n",
              "          [ 102.061,   75.221,   45.32 ],\n",
              "          [ 100.061,   73.221,   45.32 ],\n",
              "          [  99.061,   72.221,   44.32 ]],\n",
              " \n",
              "         [[ 121.061,  100.221,   82.32 ],\n",
              "          [ 119.061,  102.221,   83.32 ],\n",
              "          [ 124.061,  109.221,   90.32 ],\n",
              "          ...,\n",
              "          [ 104.061,   73.221,   37.32 ],\n",
              "          [ 100.061,   71.221,   36.32 ],\n",
              "          [  97.061,   69.221,   34.32 ]],\n",
              " \n",
              "         [[ 121.061,  102.221,   82.32 ],\n",
              "          [ 123.061,  107.221,   88.32 ],\n",
              "          [ 123.061,  109.221,   90.32 ],\n",
              "          ...,\n",
              "          [ 103.061,   69.221,   37.32 ],\n",
              "          [ 100.061,   67.221,   34.32 ],\n",
              "          [  98.061,   66.221,   31.32 ]],\n",
              " \n",
              "         ...,\n",
              " \n",
              "         [[  36.061,   25.221,   18.32 ],\n",
              "          [  37.061,   28.221,   20.32 ],\n",
              "          [  39.061,   32.221,   23.32 ],\n",
              "          ...,\n",
              "          [  36.061,   28.221,   20.32 ],\n",
              "          [  26.061,   18.221,   10.32 ],\n",
              "          [  30.061,   22.221,   14.32 ]],\n",
              " \n",
              "         [[  31.061,   21.221,   12.32 ],\n",
              "          [  39.061,   30.221,   21.32 ],\n",
              "          [  38.061,   31.221,   22.32 ],\n",
              "          ...,\n",
              "          [  41.061,   33.221,   25.32 ],\n",
              "          [  36.061,   28.221,   20.32 ],\n",
              "          [  25.061,   17.221,    9.32 ]],\n",
              " \n",
              "         [[  40.061,   32.221,   23.32 ],\n",
              "          [  29.061,   21.221,   13.32 ],\n",
              "          [  26.061,   20.221,   11.32 ],\n",
              "          ...,\n",
              "          [  39.061,   31.221,   23.32 ],\n",
              "          [  42.061,   34.221,   26.32 ],\n",
              "          [  37.061,   29.221,   21.32 ]]],\n",
              " \n",
              " \n",
              "        ...,\n",
              " \n",
              " \n",
              "        [[[ -15.939,    9.221,   26.32 ],\n",
              "          [ -38.939,  -16.779,    1.32 ],\n",
              "          [ -40.939,  -21.779,   -3.68 ],\n",
              "          ...,\n",
              "          [ 133.061,  125.221,  118.32 ],\n",
              "          [ 127.061,  118.221,  112.32 ],\n",
              "          [ 130.061,  121.221,  115.32 ]],\n",
              " \n",
              "         [[ -44.939,  -22.779,   -8.68 ],\n",
              "          [ -51.939,  -33.779,  -17.68 ],\n",
              "          [ -50.939,  -36.779,  -20.68 ],\n",
              "          ...,\n",
              "          [ 129.061,  122.221,  116.32 ],\n",
              "          [ 127.061,  120.221,  115.32 ],\n",
              "          [ 121.061,  115.221,  109.32 ]],\n",
              " \n",
              "         [[ -54.939,  -37.779,  -17.68 ],\n",
              "          [ -53.939,  -36.779,  -15.68 ],\n",
              "          [ -52.939,  -35.779,  -16.68 ],\n",
              "          ...,\n",
              "          [ 121.061,  118.221,  113.32 ],\n",
              "          [ 120.061,  117.221,  113.32 ],\n",
              "          [ 122.061,  119.221,  114.32 ]],\n",
              " \n",
              "         ...,\n",
              " \n",
              "         [[ -65.939,  -64.779,  -28.68 ],\n",
              "          [ -65.939,  -67.779,  -33.68 ],\n",
              "          [ -67.939,  -71.779,  -37.68 ],\n",
              "          ...,\n",
              "          [ -93.939, -105.779, -108.68 ],\n",
              "          [-101.939, -111.779, -117.68 ],\n",
              "          [-103.939, -116.779, -122.68 ]],\n",
              " \n",
              "         [[ -65.939,  -70.779,  -36.68 ],\n",
              "          [ -65.939,  -72.779,  -40.68 ],\n",
              "          [ -68.939,  -76.779,  -46.68 ],\n",
              "          ...,\n",
              "          [ -67.939,  -75.779,  -81.68 ],\n",
              "          [-101.939, -113.779, -119.68 ],\n",
              "          [ -98.939, -114.779, -119.68 ]],\n",
              " \n",
              "         [[ -67.939,  -74.779,  -41.68 ],\n",
              "          [ -67.939,  -75.779,  -45.68 ],\n",
              "          [ -69.939,  -76.779,  -49.68 ],\n",
              "          ...,\n",
              "          [ -91.939, -101.779, -108.68 ],\n",
              "          [-100.939, -114.779, -121.68 ],\n",
              "          [ -98.939, -113.779, -119.68 ]]],\n",
              " \n",
              " \n",
              "        [[[ 147.061,  133.221,  126.32 ],\n",
              "          [ 147.061,  133.221,  126.32 ],\n",
              "          [ 147.061,  133.221,  126.32 ],\n",
              "          ...,\n",
              "          [ 132.061,  120.221,  111.32 ],\n",
              "          [ 132.061,  120.221,  111.32 ],\n",
              "          [ 131.061,  119.221,  110.32 ]],\n",
              " \n",
              "         [[ 140.061,  125.221,  118.32 ],\n",
              "          [ 141.061,  126.221,  119.32 ],\n",
              "          [ 141.061,  126.221,  119.32 ],\n",
              "          ...,\n",
              "          [ 131.061,  119.221,  110.32 ],\n",
              "          [ 132.061,  120.221,  111.32 ],\n",
              "          [ 132.061,  120.221,  111.32 ]],\n",
              " \n",
              "         [[ 138.061,  123.221,  116.32 ],\n",
              "          [ 138.061,  123.221,  116.32 ],\n",
              "          [ 138.061,  123.221,  116.32 ],\n",
              "          ...,\n",
              "          [ 132.061,  120.221,  111.32 ],\n",
              "          [ 132.061,  120.221,  111.32 ],\n",
              "          [ 132.061,  120.221,  111.32 ]],\n",
              " \n",
              "         ...,\n",
              " \n",
              "         [[  -6.939,  -16.779,   -8.68 ],\n",
              "          [  -6.939,  -16.779,   -8.68 ],\n",
              "          [  -7.939,  -16.779,   -8.68 ],\n",
              "          ...,\n",
              "          [  96.061,   84.221,   78.32 ],\n",
              "          [  97.061,   86.221,   79.32 ],\n",
              "          [  97.061,   85.221,   78.32 ]],\n",
              " \n",
              "         [[   3.061,   -6.779,    0.32 ],\n",
              "          [   4.061,   -5.779,    1.32 ],\n",
              "          [   2.061,   -7.779,   -0.68 ],\n",
              "          ...,\n",
              "          [  94.061,   80.221,   75.32 ],\n",
              "          [  96.061,   82.221,   77.32 ],\n",
              "          [ 100.061,   86.221,   81.32 ]],\n",
              " \n",
              "         [[  28.061,   17.221,   21.32 ],\n",
              "          [  26.061,   15.221,   19.32 ],\n",
              "          [  26.061,   15.221,   19.32 ],\n",
              "          ...,\n",
              "          [  86.061,   72.221,   67.32 ],\n",
              "          [  88.061,   74.221,   69.32 ],\n",
              "          [  98.061,   85.221,   80.32 ]]],\n",
              " \n",
              " \n",
              "        [[[ 101.061,   80.221,  114.32 ],\n",
              "          [  89.061,   65.221,  100.32 ],\n",
              "          [  97.061,   72.221,  107.32 ],\n",
              "          ...,\n",
              "          [  86.061,   70.221,   95.32 ],\n",
              "          [  99.061,   83.221,  108.32 ],\n",
              "          [ 101.061,   85.221,  111.32 ]],\n",
              " \n",
              "         [[  96.061,   76.221,  110.32 ],\n",
              "          [  80.061,   58.221,   92.32 ],\n",
              "          [  94.061,   69.221,  104.32 ],\n",
              "          ...,\n",
              "          [  98.061,   82.221,  106.32 ],\n",
              "          [ 107.061,   91.221,  115.32 ],\n",
              "          [  90.061,   74.221,   98.32 ]],\n",
              " \n",
              "         [[  97.061,   79.221,  113.32 ],\n",
              "          [  88.061,   68.221,  102.32 ],\n",
              "          [  91.061,   67.221,  102.32 ],\n",
              "          ...,\n",
              "          [ 108.061,   92.221,  116.32 ],\n",
              "          [ 102.061,   87.221,  110.32 ],\n",
              "          [ 102.061,   86.221,  109.32 ]],\n",
              " \n",
              "         ...,\n",
              " \n",
              "         [[  79.061,   67.221,   94.32 ],\n",
              "          [  74.061,   61.221,   89.32 ],\n",
              "          [  78.061,   63.221,   92.32 ],\n",
              "          ...,\n",
              "          [  87.061,   56.221,   86.32 ],\n",
              "          [  97.061,   66.221,   97.32 ],\n",
              "          [  92.061,   58.221,   93.32 ]],\n",
              " \n",
              "         [[  69.061,   57.221,   84.32 ],\n",
              "          [  71.061,   57.221,   85.32 ],\n",
              "          [  73.061,   58.221,   87.32 ],\n",
              "          ...,\n",
              "          [  89.061,   59.221,   87.32 ],\n",
              "          [  97.061,   65.221,   96.32 ],\n",
              "          [  92.061,   60.221,   92.32 ]],\n",
              " \n",
              "         [[  83.061,   70.221,   97.32 ],\n",
              "          [  87.061,   72.221,  100.32 ],\n",
              "          [  74.061,   59.221,   88.32 ],\n",
              "          ...,\n",
              "          [  85.061,   55.221,   81.32 ],\n",
              "          [  86.061,   55.221,   83.32 ],\n",
              "          [  92.061,   61.221,   91.32 ]]]]),\n",
              " (array([[0., 0., 0., ..., 0., 0., 0.],\n",
              "         [0., 0., 0., ..., 0., 0., 0.],\n",
              "         [0., 0., 0., ..., 0., 0., 0.],\n",
              "         ...,\n",
              "         [0., 0., 0., ..., 0., 0., 0.],\n",
              "         [0., 0., 0., ..., 0., 0., 0.],\n",
              "         [0., 0., 0., ..., 0., 0., 0.]], dtype=float32),\n",
              "  array([[0., 0., 0., 0., 0., 0., 0., 0., 0., 0., 1., 0., 0., 0., 0., 0.,\n",
              "          0., 0., 0., 0., 0., 0., 0., 0., 0.],\n",
              "         [0., 0., 0., 0., 0., 0., 0., 0., 0., 0., 0., 0., 1., 0., 0., 0.,\n",
              "          0., 0., 0., 0., 0., 0., 0., 0., 0.],\n",
              "         [0., 0., 0., 0., 0., 0., 0., 0., 0., 0., 0., 0., 1., 0., 0., 0.,\n",
              "          0., 0., 0., 0., 0., 0., 0., 0., 0.],\n",
              "         [0., 0., 0., 0., 0., 0., 0., 0., 0., 0., 0., 0., 1., 0., 0., 0.,\n",
              "          0., 0., 0., 0., 0., 0., 0., 0., 0.],\n",
              "         [0., 0., 0., 0., 0., 0., 0., 0., 0., 0., 0., 0., 1., 0., 0., 0.,\n",
              "          0., 0., 0., 0., 0., 0., 0., 0., 0.],\n",
              "         [0., 0., 0., 0., 0., 0., 0., 0., 0., 0., 0., 0., 1., 0., 0., 0.,\n",
              "          0., 0., 0., 0., 0., 0., 0., 0., 0.],\n",
              "         [0., 0., 0., 0., 0., 0., 0., 0., 0., 0., 0., 0., 0., 0., 0., 0.,\n",
              "          0., 0., 1., 0., 0., 0., 0., 0., 0.],\n",
              "         [0., 0., 0., 0., 0., 0., 0., 0., 0., 0., 0., 0., 1., 0., 0., 0.,\n",
              "          0., 0., 0., 0., 0., 0., 0., 0., 0.],\n",
              "         [0., 0., 0., 0., 0., 1., 0., 0., 0., 0., 0., 0., 0., 0., 0., 0.,\n",
              "          0., 0., 0., 0., 0., 0., 0., 0., 0.],\n",
              "         [0., 0., 0., 0., 0., 0., 0., 0., 0., 0., 0., 0., 0., 0., 0., 1.,\n",
              "          0., 0., 0., 0., 0., 0., 0., 0., 0.],\n",
              "         [0., 0., 0., 0., 0., 0., 0., 0., 0., 0., 0., 0., 1., 0., 0., 0.,\n",
              "          0., 0., 0., 0., 0., 0., 0., 0., 0.],\n",
              "         [0., 0., 0., 0., 0., 0., 0., 0., 0., 0., 0., 0., 1., 0., 0., 0.,\n",
              "          0., 0., 0., 0., 0., 0., 0., 0., 0.],\n",
              "         [0., 0., 0., 0., 0., 0., 0., 0., 0., 0., 0., 0., 0., 0., 0., 0.,\n",
              "          0., 0., 1., 0., 0., 0., 0., 0., 0.],\n",
              "         [0., 0., 0., 0., 0., 0., 0., 0., 0., 0., 0., 0., 1., 0., 0., 0.,\n",
              "          0., 0., 0., 0., 0., 0., 0., 0., 0.],\n",
              "         [0., 0., 0., 0., 0., 0., 0., 0., 0., 0., 0., 0., 1., 0., 0., 0.,\n",
              "          0., 0., 0., 0., 0., 0., 0., 0., 0.],\n",
              "         [0., 0., 0., 0., 0., 0., 0., 0., 0., 0., 0., 0., 0., 0., 0., 0.,\n",
              "          0., 0., 0., 0., 0., 0., 1., 0., 0.],\n",
              "         [0., 0., 0., 0., 0., 0., 0., 0., 0., 0., 0., 0., 1., 0., 0., 0.,\n",
              "          0., 0., 0., 0., 0., 0., 0., 0., 0.],\n",
              "         [0., 0., 0., 0., 0., 0., 0., 0., 0., 0., 0., 0., 1., 0., 0., 0.,\n",
              "          0., 0., 0., 0., 0., 0., 0., 0., 0.],\n",
              "         [0., 0., 0., 0., 0., 0., 0., 0., 0., 0., 0., 0., 1., 0., 0., 0.,\n",
              "          0., 0., 0., 0., 0., 0., 0., 0., 0.],\n",
              "         [0., 0., 0., 0., 0., 0., 0., 0., 0., 0., 0., 0., 1., 0., 0., 0.,\n",
              "          0., 0., 0., 0., 0., 0., 0., 0., 0.],\n",
              "         [0., 0., 0., 0., 0., 0., 0., 0., 0., 0., 0., 0., 1., 0., 0., 0.,\n",
              "          0., 0., 0., 0., 0., 0., 0., 0., 0.],\n",
              "         [0., 0., 0., 0., 0., 0., 0., 0., 0., 0., 0., 0., 1., 0., 0., 0.,\n",
              "          0., 0., 0., 0., 0., 0., 0., 0., 0.],\n",
              "         [0., 0., 0., 0., 0., 0., 0., 0., 0., 0., 0., 0., 1., 0., 0., 0.,\n",
              "          0., 0., 0., 0., 0., 0., 0., 0., 0.],\n",
              "         [0., 0., 0., 0., 0., 0., 0., 0., 0., 0., 0., 0., 1., 0., 0., 0.,\n",
              "          0., 0., 0., 0., 0., 0., 0., 0., 0.],\n",
              "         [0., 0., 0., 0., 0., 0., 0., 0., 0., 0., 0., 0., 1., 0., 0., 0.,\n",
              "          0., 0., 0., 0., 0., 0., 0., 0., 0.],\n",
              "         [0., 0., 0., 0., 0., 0., 0., 0., 0., 0., 0., 0., 1., 0., 0., 0.,\n",
              "          0., 0., 0., 0., 0., 0., 0., 0., 0.],\n",
              "         [0., 0., 0., 0., 0., 0., 0., 0., 0., 0., 0., 0., 1., 0., 0., 0.,\n",
              "          0., 0., 0., 0., 0., 0., 0., 0., 0.],\n",
              "         [0., 0., 0., 0., 0., 0., 0., 0., 0., 0., 0., 0., 1., 0., 0., 0.,\n",
              "          0., 0., 0., 0., 0., 0., 0., 0., 0.],\n",
              "         [0., 0., 0., 0., 0., 0., 0., 1., 0., 0., 0., 0., 0., 0., 0., 0.,\n",
              "          0., 0., 0., 0., 0., 0., 0., 0., 0.],\n",
              "         [0., 0., 0., 0., 0., 1., 0., 0., 0., 0., 0., 0., 0., 0., 0., 0.,\n",
              "          0., 0., 0., 0., 0., 0., 0., 0., 0.],\n",
              "         [0., 0., 0., 0., 0., 1., 0., 0., 0., 0., 0., 0., 0., 0., 0., 0.,\n",
              "          0., 0., 0., 0., 0., 0., 0., 0., 0.],\n",
              "         [0., 0., 0., 0., 0., 0., 0., 0., 0., 0., 0., 0., 1., 0., 0., 0.,\n",
              "          0., 0., 0., 0., 0., 0., 0., 0., 0.]], dtype=float32)))"
            ]
          },
          "metadata": {},
          "execution_count": 21
        }
      ]
    },
    {
      "cell_type": "code",
      "source": [
        ""
      ],
      "metadata": {
        "id": "EGWJkdhDM5YU"
      },
      "execution_count": null,
      "outputs": []
    }
  ]
}