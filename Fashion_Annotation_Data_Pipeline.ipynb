{
  "cells": [
    {
      "cell_type": "markdown",
      "metadata": {
        "id": "view-in-github",
        "colab_type": "text"
      },
      "source": [
        "<a href=\"https://colab.research.google.com/github/morganFitzg/fashion_annotation/blob/main/Fashion_Annotation_Data_Pipeline.ipynb\" target=\"_parent\"><img src=\"https://colab.research.google.com/assets/colab-badge.svg\" alt=\"Open In Colab\"/></a>"
      ]
    },
    {
      "cell_type": "markdown",
      "metadata": {
        "id": "c0zpnK75Dg67"
      },
      "source": [
        "# Capstone: IG Data Collection and Storage\n",
        "\n",
        "Morgan Fitzgerald \n",
        "\n",
        "Instructor: Abhineet Kulkarni"
      ],
      "id": "c0zpnK75Dg67"
    },
    {
      "cell_type": "markdown",
      "source": [
        "This notebook is the second of two (link XX) for a project that annotates Fashion images from Instagram.  The first notebook laid out the business problem and built the model used to classify images.  \n",
        "\n",
        "The model takes a fashion image and classifies which category of clothing, color, and pattern is shown.\n",
        "\n",
        "Here the pipeline for data collection, annotation, and storage is laid out.  This includes calls to the Apify Instagram API, data cleaning, model predictions with collected images, and storing results in a MySQL database on Google Cloud.\n",
        "\n",
        "The MySQL database is connected to a Google Data Studio report at XXX that displays results."
      ],
      "metadata": {
        "id": "2OrhEOjmhPV8"
      },
      "id": "2OrhEOjmhPV8"
    },
    {
      "cell_type": "markdown",
      "source": [
        "Ultimately all the functions in this notebook (except the Create Database section) feed into **get_and_predict**, which runs the entire pipeline.  "
      ],
      "metadata": {
        "id": "alvacKL2nF88"
      },
      "id": "alvacKL2nF88"
    },
    {
      "cell_type": "markdown",
      "source": [
        "# Setup"
      ],
      "metadata": {
        "id": "le-Au74gg82K"
      },
      "id": "le-Au74gg82K"
    },
    {
      "cell_type": "code",
      "source": [
        "!pip install demoji\n",
        "!pip install apify-client\n",
        "!pip install mysql\n",
        "!pip install mysql.connector"
      ],
      "metadata": {
        "colab": {
          "base_uri": "https://localhost:8080/"
        },
        "id": "G5hhQx08FS3y",
        "outputId": "c1dd5476-d0f0-4de7-c585-3f09325df54c"
      },
      "id": "G5hhQx08FS3y",
      "execution_count": 1,
      "outputs": [
        {
          "output_type": "stream",
          "name": "stdout",
          "text": [
            "Collecting demoji\n",
            "  Downloading demoji-1.1.0-py3-none-any.whl (42 kB)\n",
            "\u001b[?25l\r\u001b[K     |███████▋                        | 10 kB 15.1 MB/s eta 0:00:01\r\u001b[K     |███████████████▎                | 20 kB 12.1 MB/s eta 0:00:01\r\u001b[K     |███████████████████████         | 30 kB 8.8 MB/s eta 0:00:01\r\u001b[K     |██████████████████████████████▋ | 40 kB 3.5 MB/s eta 0:00:01\r\u001b[K     |████████████████████████████████| 42 kB 966 kB/s \n",
            "\u001b[?25hInstalling collected packages: demoji\n",
            "Successfully installed demoji-1.1.0\n",
            "Collecting apify-client\n",
            "  Downloading apify_client-0.5.0-py3-none-any.whl (55 kB)\n",
            "\u001b[K     |████████████████████████████████| 55 kB 2.0 MB/s \n",
            "\u001b[?25hCollecting requests~=2.26.0\n",
            "  Downloading requests-2.26.0-py2.py3-none-any.whl (62 kB)\n",
            "\u001b[K     |████████████████████████████████| 62 kB 754 kB/s \n",
            "\u001b[?25hRequirement already satisfied: certifi>=2017.4.17 in /usr/local/lib/python3.7/dist-packages (from requests~=2.26.0->apify-client) (2021.10.8)\n",
            "Requirement already satisfied: urllib3<1.27,>=1.21.1 in /usr/local/lib/python3.7/dist-packages (from requests~=2.26.0->apify-client) (1.24.3)\n",
            "Requirement already satisfied: charset-normalizer~=2.0.0 in /usr/local/lib/python3.7/dist-packages (from requests~=2.26.0->apify-client) (2.0.12)\n",
            "Requirement already satisfied: idna<4,>=2.5 in /usr/local/lib/python3.7/dist-packages (from requests~=2.26.0->apify-client) (2.10)\n",
            "Installing collected packages: requests, apify-client\n",
            "  Attempting uninstall: requests\n",
            "    Found existing installation: requests 2.23.0\n",
            "    Uninstalling requests-2.23.0:\n",
            "      Successfully uninstalled requests-2.23.0\n",
            "\u001b[31mERROR: pip's dependency resolver does not currently take into account all the packages that are installed. This behaviour is the source of the following dependency conflicts.\n",
            "google-colab 1.0.0 requires requests~=2.23.0, but you have requests 2.26.0 which is incompatible.\n",
            "datascience 0.10.6 requires folium==0.2.1, but you have folium 0.8.3 which is incompatible.\u001b[0m\n",
            "Successfully installed apify-client-0.5.0 requests-2.26.0\n",
            "Collecting mysql\n",
            "  Downloading mysql-0.0.3-py3-none-any.whl (1.2 kB)\n",
            "Collecting mysqlclient\n",
            "  Downloading mysqlclient-2.1.0.tar.gz (87 kB)\n",
            "\u001b[K     |████████████████████████████████| 87 kB 3.0 MB/s \n",
            "\u001b[?25hBuilding wheels for collected packages: mysqlclient\n",
            "  Building wheel for mysqlclient (setup.py) ... \u001b[?25l\u001b[?25hdone\n",
            "  Created wheel for mysqlclient: filename=mysqlclient-2.1.0-cp37-cp37m-linux_x86_64.whl size=99970 sha256=59bc2ef0228a50ae01c4836c684a894c1bf216b2676923dd6ee9c3a6c12806e5\n",
            "  Stored in directory: /root/.cache/pip/wheels/97/d4/df/08cd6e1fa4a8691b268ab254bd0fa589827ab5b65638c010b4\n",
            "Successfully built mysqlclient\n",
            "Installing collected packages: mysqlclient, mysql\n",
            "Successfully installed mysql-0.0.3 mysqlclient-2.1.0\n",
            "Collecting mysql.connector\n",
            "  Downloading mysql-connector-2.2.9.tar.gz (11.9 MB)\n",
            "\u001b[K     |████████████████████████████████| 11.9 MB 4.3 MB/s \n",
            "\u001b[?25hBuilding wheels for collected packages: mysql.connector\n",
            "  Building wheel for mysql.connector (setup.py) ... \u001b[?25l\u001b[?25hdone\n",
            "  Created wheel for mysql.connector: filename=mysql_connector-2.2.9-cp37-cp37m-linux_x86_64.whl size=247965 sha256=3ca8462adbb47b162a1fac678ecbc90cb6f922dbf3dd9663e748d8f5f12bdb98\n",
            "  Stored in directory: /root/.cache/pip/wheels/42/2f/c3/692fc7fc1f0d8c06b9175d94f0fc30f4f92348f5df5af1b8b7\n",
            "Successfully built mysql.connector\n",
            "Installing collected packages: mysql.connector\n",
            "Successfully installed mysql.connector-2.2.9\n"
          ]
        }
      ]
    },
    {
      "cell_type": "code",
      "execution_count": 2,
      "metadata": {
        "id": "M4YSHlArDg68"
      },
      "outputs": [],
      "source": [
        "import pandas as pd\n",
        "import numpy as np\n",
        "import matplotlib.pyplot as plt\n",
        "import requests\n",
        "from PIL import Image\n",
        "import io\n",
        "import sqlite3\n",
        "import demoji\n",
        "from apify_client import ApifyClient\n",
        "import mysql.connector\n",
        "from mysql.connector.constants import ClientFlag\n",
        "\n",
        "from tensorflow.keras.models import Model\n",
        "from keras.models import Model\n",
        "from keras.applications.vgg16 import VGG16\n",
        "from keras.applications.vgg16 import preprocess_input\n",
        "from keras.preprocessing import image\n",
        "from keras.preprocessing.image import ImageDataGenerator\n",
        "from tensorflow.keras.utils import Sequence, to_categorical\n",
        "from keras.losses import CategoricalCrossentropy\n",
        "\n",
        "from sklearn.model_selection import train_test_split, StratifiedKFold\n",
        "from sklearn.metrics import confusion_matrix, accuracy_score\n",
        "import io \n",
        "from PIL import Image\n",
        "import pickle"
      ],
      "id": "M4YSHlArDg68"
    },
    {
      "cell_type": "code",
      "source": [
        "from google.colab import drive\n",
        "drive.mount('/content/drive')"
      ],
      "metadata": {
        "colab": {
          "base_uri": "https://localhost:8080/"
        },
        "id": "HXhViI2ZIE_e",
        "outputId": "603c3219-604b-4924-d088-292ce469c569"
      },
      "id": "HXhViI2ZIE_e",
      "execution_count": 3,
      "outputs": [
        {
          "output_type": "stream",
          "name": "stdout",
          "text": [
            "Mounted at /content/drive\n"
          ]
        }
      ]
    },
    {
      "cell_type": "code",
      "execution_count": 7,
      "metadata": {
        "id": "K4RkeWD2Dg6-"
      },
      "outputs": [],
      "source": [
        "config= {\n",
        "    'user': 'root',\n",
        "    'password': 'IGphotos',\n",
        "    'host': '35.238.73.95',\n",
        "    'client_flags': [ClientFlag.SSL],\n",
        "    'ssl_ca': '/content/drive/My Drive/fashion_annotation/server-ca.pem',\n",
        "    'ssl_cert': '/content/drive/My Drive/fashion_annotation/client-cert.pem',\n",
        "    'ssl_key': '/content/drive/My Drive/fashion_annotation/client-key.pem',\n",
        "    'database': 'fashion'\n",
        "}\n"
      ],
      "id": "K4RkeWD2Dg6-"
    },
    {
      "cell_type": "markdown",
      "metadata": {
        "id": "qO8a52YBDg69"
      },
      "source": [
        "# API Call Function"
      ],
      "id": "qO8a52YBDg69"
    },
    {
      "cell_type": "markdown",
      "source": [
        "The three functions below collect data from the Apify API by querying it with hashtags related to fashion, downloading image from the provided url, and parsing the data into a format compatible with MySQL records. "
      ],
      "metadata": {
        "id": "cc-jRAIOkAuJ"
      },
      "id": "cc-jRAIOkAuJ"
    },
    {
      "cell_type": "code",
      "execution_count": 4,
      "metadata": {
        "id": "Nn9SfhNFDg69"
      },
      "outputs": [],
      "source": [
        "#fn that downloads image from display URL\n",
        "\n",
        "def download_im(url):\n",
        "    try:\n",
        "        resp=requests.get(url,stream=True)\n",
        "        im=resp.content\n",
        "        byte_im=io.BytesIO(im)\n",
        "        img=Image.open(byte_im)\n",
        "        return im\n",
        "    except Exception as e:\n",
        "        return None"
      ],
      "id": "Nn9SfhNFDg69"
    },
    {
      "cell_type": "code",
      "execution_count": 5,
      "metadata": {
        "id": "t6Es708rDg69"
      },
      "outputs": [],
      "source": [
        "# queries API for posts with listed hashtags\n",
        "# num_results is the number of posts returned per hash tag\n",
        "# returns the response data in json format\n",
        "\n",
        "def make_queries(hashtag_list,num_results):\n",
        "    apify_client = ApifyClient('apify_api_5KMZfJ9PIpDUrR9QFwr8KnSKAxUuxJ0KgvoN')\n",
        "\n",
        "    hash_call={\"hashtags\": hashtag_list,\n",
        "               \"resultsLimit\": num_results\n",
        "              }\n",
        "    # Start an actor and waits for it to finish\n",
        "    actor_call = apify_client.actor('zuzka/instagram-hashtag-scraper').call(run_input=hash_call)\n",
        "\n",
        "    # Fetch results from the actor's default dataset\n",
        "    dataset_items = apify_client.dataset(actor_call['defaultDatasetId']).list_items().items\n",
        "    \n",
        "    return dataset_items\n",
        "    "
      ],
      "id": "t6Es708rDg69"
    },
    {
      "cell_type": "code",
      "execution_count": 6,
      "metadata": {
        "id": "aod-nWvlDg69"
      },
      "outputs": [],
      "source": [
        "#converts the response data to a list of records for each post\n",
        "#these records will be extended in another fn to include model results and \n",
        "#then inserted into the metadata table\n",
        "\n",
        "def get_meta_records(results):\n",
        "    records=[]\n",
        "    for resp in results:\n",
        "        resp_type=resp['type']\n",
        "        if (resp_type =='Image') or (resp_type=='Sidecar'):\n",
        "            \n",
        "            url=resp['displayUrl']\n",
        "            img=download_im(url)\n",
        "        \n",
        "            caption=resp['caption']\n",
        "            caption=demoji.replace_with_desc(caption)\n",
        "            if len(caption)>1000:\n",
        "                caption=caption[:1000]\n",
        "                \n",
        "            hashtags=\" \".join(resp['hashtags'])\n",
        "            hashtags=demoji.replace_with_desc(hashtags)\n",
        "            if len(hashtags)>1000:\n",
        "                hashtags=hashtags[:1000]\n",
        "        \n",
        "            timestamp=resp['timestamp']\n",
        "            year=timestamp[0:4]\n",
        "            month=timestamp[5:7]\n",
        "            day=timestamp[8:10]\n",
        "\n",
        "            data=(resp['queryTag'], 'None',\n",
        "                hashtags, resp['likesCount'],\n",
        "                resp['ownerId'], year,\n",
        "                month, day, img, resp['displayUrl'])\n",
        "            records.append(data)\n",
        "    return records"
      ],
      "id": "aod-nWvlDg69"
    },
    {
      "cell_type": "markdown",
      "metadata": {
        "id": "8dKAEof2Dg6-"
      },
      "source": [
        "# Create Database"
      ],
      "id": "8dKAEof2Dg6-"
    },
    {
      "cell_type": "markdown",
      "source": [
        "In this section, the database tables are created.\n",
        "<ol>\n",
        "<li>metadata - contains data about the post and as well as annotations</li>\n",
        "<li>post_counts - contains the number of total posts collected each day</li>\n",
        "<li>color_counts - contains the number of posts for each color on each day as well as the percent of total posts for each color</li>\n",
        "<li>pattern_counts - the same as color_counts but for patterns</li>\n",
        "<li>category_counts - the same as color_counts but for categories</li>\n",
        "</ol>"
      ],
      "metadata": {
        "id": "-zniQ2dwk8eW"
      },
      "id": "-zniQ2dwk8eW"
    },
    {
      "cell_type": "code",
      "execution_count": null,
      "metadata": {
        "id": "CcoQIHS9Dg6-"
      },
      "outputs": [],
      "source": [
        "conn = mysql.connector.connect(**config)\n",
        "cursor=conn.cursor()\n",
        "\n",
        "query= \"\"\"\n",
        "CREATE TABLE metadata (\n",
        "                                id INTEGER NOT NULL AUTO_INCREMENT,\n",
        "                                queryTag VARCHAR(50),\n",
        "                                caption VARCHAR(1000),\n",
        "                                hashtags VARCHAR(1000),\n",
        "                                likesCount INTEGER,\n",
        "                                ownerId BIGINT,\n",
        "                                year INTEGER,\n",
        "                                month INTEGER,\n",
        "                                day INTEGER,\n",
        "                                image MEDIUMBLOB,\n",
        "                                PRIMARY KEY (id))   \n",
        "\n",
        "\"\"\"\n",
        "cursor.execute(query)\n",
        "conn.commit()"
      ],
      "id": "CcoQIHS9Dg6-"
    },
    {
      "cell_type": "code",
      "execution_count": null,
      "metadata": {
        "scrolled": true,
        "id": "m9R-GshoDg6-"
      },
      "outputs": [],
      "source": [
        "query= \"\"\"\n",
        "INSERT INTO metadata (queryTag, caption, hashtags, likesCount,\n",
        "                    ownerId, year, month, day, image) \n",
        "                    VALUES (%s, %s, %s, %s, %s, %s, %s, %s, %s);\n",
        "\n",
        "\"\"\"\n",
        "cursor.executemany(query,records)\n",
        "conn.commit()"
      ],
      "id": "m9R-GshoDg6-"
    },
    {
      "cell_type": "code",
      "execution_count": 54,
      "metadata": {
        "id": "98Y1AaLcDg6-"
      },
      "outputs": [],
      "source": [
        "conn.close()"
      ],
      "id": "98Y1AaLcDg6-"
    },
    {
      "cell_type": "code",
      "source": [
        "query=\"\"\"\n",
        "ALTER TABLE metadata\n",
        "ADD category VARCHAR(100),\n",
        "ADD pattern VARCHAR(50),\n",
        "ADD color VARCHAR(20);\n",
        "\"\"\"\n",
        "cursor.execute(query)\n",
        "conn.commit()\n",
        "conn.close()"
      ],
      "metadata": {
        "id": "fHXXnz2NmeUz"
      },
      "id": "fHXXnz2NmeUz",
      "execution_count": null,
      "outputs": []
    },
    {
      "cell_type": "code",
      "source": [
        "conn = mysql.connector.connect(**config)\n",
        "cursor=conn.cursor()\n",
        "\n",
        "query=\"\"\"\n",
        "ALTER TABLE metadata\n",
        "ADD displayUrl VARCHAR(500);\n",
        "\"\"\"\n",
        "cursor.execute(query)\n",
        "conn.commit()\n",
        "conn.close()"
      ],
      "metadata": {
        "id": "GsQI8MvDYwp0"
      },
      "id": "GsQI8MvDYwp0",
      "execution_count": 70,
      "outputs": []
    },
    {
      "cell_type": "code",
      "source": [
        "conn = mysql.connector.connect(**config)\n",
        "cursor=conn.cursor()"
      ],
      "metadata": {
        "id": "TNeRkSkfunu0"
      },
      "id": "TNeRkSkfunu0",
      "execution_count": 86,
      "outputs": []
    },
    {
      "cell_type": "code",
      "source": [
        "query= \"\"\"\n",
        "CREATE TABLE post_counts (\n",
        "                                month INTEGER NOT NULL,\n",
        "                                day INTEGER NOT NULL,\n",
        "                                post_count INTEGER,\n",
        "                                PRIMARY KEY (month, day));   \n",
        "\n",
        "\"\"\"\n",
        "cursor.execute(query)\n",
        "conn.commit()"
      ],
      "metadata": {
        "id": "JN4YAFs29cFd"
      },
      "id": "JN4YAFs29cFd",
      "execution_count": null,
      "outputs": []
    },
    {
      "cell_type": "code",
      "source": [
        "query= \"\"\"\n",
        "CREATE TABLE color_counts (\n",
        "                                month INTEGER NOT NULL,\n",
        "                                day INTEGER NOT NULL,\n",
        "                                color VARCHAR(20),\n",
        "                                color_count INTEGER,\n",
        "                                post_count INTEGER,\n",
        "                                color_percent FLOAT,\n",
        "                                PRIMARY KEY (month, day, color));   \n",
        "\n",
        "\"\"\"\n",
        "cursor.execute(query)\n",
        "conn.commit()"
      ],
      "metadata": {
        "id": "-_JbUFnmXBDH"
      },
      "id": "-_JbUFnmXBDH",
      "execution_count": null,
      "outputs": []
    },
    {
      "cell_type": "code",
      "source": [
        "query= \"\"\"\n",
        "CREATE TABLE pattern_counts (\n",
        "                                month INTEGER NOT NULL,\n",
        "                                day INTEGER NOT NULL,\n",
        "                                pattern VARCHAR(50),\n",
        "                                pattern_count INTEGER,\n",
        "                                post_count INTEGER,\n",
        "                                pattern_percent FLOAT,\n",
        "                                PRIMARY KEY (month, day, pattern));   \n",
        "\n",
        "\"\"\"\n",
        "cursor.execute(query)\n",
        "conn.commit()"
      ],
      "metadata": {
        "id": "SWeoUFihnvKM"
      },
      "id": "SWeoUFihnvKM",
      "execution_count": 87,
      "outputs": []
    },
    {
      "cell_type": "code",
      "source": [
        "query= \"\"\"\n",
        "CREATE TABLE category_counts (\n",
        "                                month INTEGER NOT NULL,\n",
        "                                day INTEGER NOT NULL,\n",
        "                                category VARCHAR(100),\n",
        "                                category_count INTEGER,\n",
        "                                post_count INTEGER,\n",
        "                                category_percent FLOAT,\n",
        "                                PRIMARY KEY (month, day, category));   \n",
        "\n",
        "\"\"\"\n",
        "cursor.execute(query)\n",
        "conn.commit()"
      ],
      "metadata": {
        "id": "8adInWgtn_oq"
      },
      "id": "8adInWgtn_oq",
      "execution_count": 88,
      "outputs": []
    },
    {
      "cell_type": "markdown",
      "source": [
        "# Aggregate Records"
      ],
      "metadata": {
        "id": "FXGNCZIruhDj"
      },
      "id": "FXGNCZIruhDj"
    },
    {
      "cell_type": "markdown",
      "source": [
        "The functions in this section aggregate the count of different categories from each label on a daily basis and update their respective tables from the database."
      ],
      "metadata": {
        "id": "sVqGi0msOGuv"
      },
      "id": "sVqGi0msOGuv"
    },
    {
      "cell_type": "code",
      "source": [
        "def update_post_counts():\n",
        "  conn = mysql.connector.connect(**config)\n",
        "  cursor=conn.cursor()\n",
        "\n",
        "  query=\"\"\"\n",
        "  SELECT month, day, COUNT(color) AS count\n",
        "  FROM metadata\n",
        "  GROUP BY day, month;\n",
        "  \"\"\"\n",
        "  cursor.execute(query)\n",
        "  result=cursor.fetchall()\n",
        "\n",
        "  query= \"\"\"\n",
        "  REPLACE INTO post_counts (month, day, post_count) \n",
        "                      VALUES (%s, %s, %s);\n",
        "\n",
        "  \"\"\"\n",
        "  cursor.executemany(query,result)\n",
        "  conn.commit()\n",
        "  conn.close()"
      ],
      "metadata": {
        "id": "RyXChjgfo4OA"
      },
      "id": "RyXChjgfo4OA",
      "execution_count": 8,
      "outputs": []
    },
    {
      "cell_type": "code",
      "source": [
        "def update_color_counts():\n",
        "  conn = mysql.connector.connect(**config)\n",
        "  cursor=conn.cursor()\n",
        "\n",
        "  query=\"\"\"\n",
        "  SELECT m.month, m.day, m.color, COUNT(m.color) AS count,\n",
        "  p.post_count, (COUNT(m.color)/p.post_count)*100 AS percent\n",
        "  FROM metadata m\n",
        "  JOIN post_counts p ON m.day=p.day AND m.month=p.month\n",
        "  GROUP BY day, month, color;\n",
        "  \"\"\"\n",
        "  cursor.execute(query)\n",
        "  color_results=cursor.fetchall()\n",
        "\n",
        "  query= \"\"\"\n",
        "  REPLACE INTO color_counts (month, day, color, color_count,\n",
        "                      post_count, color_percent) \n",
        "                      VALUES (%s, %s, %s, %s, %s, %s);\n",
        "\n",
        "  \"\"\"\n",
        "  cursor.executemany(query,color_results)\n",
        "  conn.commit()\n",
        "  conn.close()"
      ],
      "metadata": {
        "id": "3jroMofoqJNJ"
      },
      "id": "3jroMofoqJNJ",
      "execution_count": 9,
      "outputs": []
    },
    {
      "cell_type": "code",
      "source": [
        "def update_pattern_counts():\n",
        "  conn = mysql.connector.connect(**config)\n",
        "  cursor=conn.cursor()\n",
        "\n",
        "  query=\"\"\"\n",
        "  SELECT m.month, m.day, m.pattern, COUNT(m.pattern) AS count,\n",
        "  p.post_count, (COUNT(m.pattern)/p.post_count)*100 AS percent\n",
        "  FROM metadata m\n",
        "  JOIN post_counts p ON m.day=p.day AND m.month=p.month\n",
        "  GROUP BY day, month, pattern;\n",
        "  \"\"\"\n",
        "  cursor.execute(query)\n",
        "  pattern_results=cursor.fetchall()\n",
        "\n",
        "  query= \"\"\"\n",
        "  REPLACE INTO pattern_counts (month, day, pattern, pattern_count,\n",
        "                      post_count, pattern_percent) \n",
        "                      VALUES (%s, %s, %s, %s, %s, %s);\n",
        "\n",
        "  \"\"\"\n",
        "  cursor.executemany(query,pattern_results)\n",
        "  conn.commit()\n",
        "  conn.close()"
      ],
      "metadata": {
        "id": "vCY2t56Zq4BF"
      },
      "id": "vCY2t56Zq4BF",
      "execution_count": 10,
      "outputs": []
    },
    {
      "cell_type": "code",
      "source": [
        "def update_category_counts():\n",
        "  conn = mysql.connector.connect(**config)\n",
        "  cursor=conn.cursor()\n",
        "\n",
        "  query=\"\"\"\n",
        "  SELECT m.month, m.day, m.category, COUNT(m.category) AS count,\n",
        "  p.post_count, (COUNT(m.category)/p.post_count)*100 AS percent\n",
        "  FROM metadata m\n",
        "  JOIN post_counts p ON m.day=p.day AND m.month=p.month\n",
        "  GROUP BY day, month, category;\n",
        "  \"\"\"\n",
        "  cursor.execute(query)\n",
        "  category_results=cursor.fetchall()\n",
        "\n",
        "  query= \"\"\"\n",
        "  REPLACE INTO category_counts (month, day, category, category_count,\n",
        "                      post_count, category_percent) \n",
        "                      VALUES (%s, %s, %s, %s, %s, %s);\n",
        "\n",
        "  \"\"\"\n",
        "  cursor.executemany(query,category_results)\n",
        "  conn.commit()\n",
        "  conn.close()"
      ],
      "metadata": {
        "id": "0gmbSlhGstWS"
      },
      "id": "0gmbSlhGstWS",
      "execution_count": 11,
      "outputs": []
    },
    {
      "cell_type": "markdown",
      "source": [
        "# Prediction Pipeline"
      ],
      "metadata": {
        "id": "-UOlh2pAGjXt"
      },
      "id": "-UOlh2pAGjXt"
    },
    {
      "cell_type": "markdown",
      "source": [
        "In this section, functions are defined that query and return records, process images, make predictions, and then upload the data to the MySQL database."
      ],
      "metadata": {
        "id": "LRGc_D7_XNqC"
      },
      "id": "LRGc_D7_XNqC"
    },
    {
      "cell_type": "code",
      "source": [
        "#download the key for the integer labels so that they can be converted to text\n",
        "pattern_key=pd.read_csv('/content/drive/My Drive/fashion_annotation/pattern_key.csv')\n",
        "category_key=pd.read_csv('/content/drive/My Drive/fashion_annotation/category_key.csv')\n",
        "color_key=pd.read_csv('/content/drive/My Drive/fashion_annotation/color_key.csv')"
      ],
      "metadata": {
        "id": "BFnSe3z5J0dq"
      },
      "id": "BFnSe3z5J0dq",
      "execution_count": 4,
      "outputs": []
    },
    {
      "cell_type": "code",
      "source": [
        "#get dictionary for each key\n",
        "color_key=color_key.set_index('col_codes').to_dict()['color']\n",
        "pattern_key=pattern_key.set_index('pat_codes').to_dict()['pattern']\n",
        "category_key=category_key.set_index('cat_codes').to_dict()['category']"
      ],
      "metadata": {
        "id": "UicH3fIifwqL"
      },
      "id": "UicH3fIifwqL",
      "execution_count": 5,
      "outputs": []
    },
    {
      "cell_type": "code",
      "source": [
        "#load the model\n",
        "model=pickle.load(open('/content/drive/My Drive/fashion_annotation/model_4.pickle', 'rb'))"
      ],
      "metadata": {
        "id": "TiHFEdS7HNR7"
      },
      "id": "TiHFEdS7HNR7",
      "execution_count": 17,
      "outputs": []
    },
    {
      "cell_type": "code",
      "execution_count": 12,
      "metadata": {
        "id": "Yz79QM0PDg6_"
      },
      "outputs": [],
      "source": [
        "#query API and format the records\n",
        "\n",
        "def query_ig(num):\n",
        "    \n",
        "    num_resp_per_hash=num\n",
        "    \n",
        "    hashtags=['fashion','ootd',\n",
        "              'instastyle','fashionblogger',\n",
        "              'instafashion','trendsetter',\n",
        "              'lookoftheday']\n",
        "    \n",
        "    #query api and get results in json format\n",
        "    response = make_queries(hashtags,num_resp_per_hash)\n",
        "    print('got responses')\n",
        "    \n",
        "    #put response in db format\n",
        "    records = get_meta_records(response)\n",
        "    print('transformed records')\n",
        "    \n",
        "    #insert records into Google Cloud db\n",
        "    #insertRecords(records)\n",
        "    return records"
      ],
      "id": "Yz79QM0PDg6_"
    },
    {
      "cell_type": "code",
      "source": [
        "#insert records into metadata table and update the other tables\n",
        "\n",
        "def insertRecords_(recordList):\n",
        "\n",
        "    conn = mysql.connector.connect(**config)\n",
        "    cursor = conn.cursor()\n",
        "    print(\"Connected to Google Cloud MySQL\")\n",
        "\n",
        "    query= \"\"\"\n",
        "            INSERT INTO metadata (queryTag, caption, hashtags, likesCount,\n",
        "            ownerId, year, month, day, image, displayUrl, category, pattern, color) \n",
        "            VALUES (%s, %s, %s, %s, %s, %s, %s, %s, %s, %s, %s, %s, %s);\"\"\"\n",
        "    cursor.executemany(query,recordList)\n",
        "    conn.commit()\n",
        "    conn.close()\n",
        "    print(\"Total\", cursor.rowcount, \"Records inserted successfully into metadata table\")\n",
        "    update_post_counts()\n",
        "    update_color_counts()\n",
        "    update_pattern_counts()\n",
        "    update_category_counts()\n",
        "    print('updated count tables')\n",
        "    print(\"The mySQL connection is closed\")"
      ],
      "metadata": {
        "id": "NC13ZtOW-fUO"
      },
      "id": "NC13ZtOW-fUO",
      "execution_count": 18,
      "outputs": []
    },
    {
      "cell_type": "code",
      "source": [
        "#process images for VGG16\n",
        "\n",
        "def process_images_(batch):\n",
        "  #batch is list of images\n",
        "  n=len(batch)\n",
        "  imgs_array=np.zeros((n,224,224,3))\n",
        "\n",
        "  for count,im in enumerate(batch):\n",
        "    byte_im=io.BytesIO(im)\n",
        "    img=Image.open(byte_im)\n",
        "    img_sized=img.resize((224,224))\n",
        "    im_array=np.asarray(img_sized)\n",
        "    imgs_array[count,:,:,:]=im_array\n",
        "  \n",
        "  processed=preprocess_input(imgs_array)\n",
        "\n",
        "  return processed"
      ],
      "metadata": {
        "id": "RsCncYaX_x-H"
      },
      "id": "RsCncYaX_x-H",
      "execution_count": 19,
      "outputs": []
    },
    {
      "cell_type": "code",
      "source": [
        "#predict annotations and convert to text labels\n",
        "\n",
        "def make_prediction(image_batch):\n",
        "  im_array = process_images_(image_batch)\n",
        "\n",
        "  #make predictions\n",
        "  prediction=model.predict(x=im_array)\n",
        "  cat_pred=np.argmax(prediction[0],axis=1)\n",
        "  pat_pred=np.argmax(prediction[1],axis=1)\n",
        "  col_pred=np.argmax(prediction[2],axis=1)\n",
        "  #get corresponding string values for predictions\n",
        "  categories=np.vectorize(category_key.get)(cat_pred)\n",
        "  patterns=np.vectorize(pattern_key.get)(pat_pred)\n",
        "  colors=np.vectorize(color_key.get)(col_pred)\n",
        "  results=list(zip(categories,patterns,colors))\n",
        "  return results"
      ],
      "metadata": {
        "id": "lnsTTeL4_R6b"
      },
      "id": "lnsTTeL4_R6b",
      "execution_count": 20,
      "outputs": []
    },
    {
      "cell_type": "code",
      "source": [
        "#final function that puts it all together\n",
        "\n",
        "def get_and_predict(num_posts):\n",
        "  records=query_ig(num_posts)\n",
        "  image_batch=[r[8] for r in records]\n",
        "\n",
        "  preds=make_prediction(image_batch)\n",
        "  print('made predictions')\n",
        "  records_lists=[[r for r in record] for record in records]\n",
        "  preds_lists=[[str(p) for p in pred] for pred in preds]\n",
        "\n",
        "  for n in range(0,len(records_lists)):\n",
        "    records_lists[n].extend(preds_lists[n])\n",
        "\n",
        "  updated_records=[tuple(record) for record in records_lists]\n",
        "\n",
        "  insertRecords_(updated_records)"
      ],
      "metadata": {
        "id": "qnpXI-VRA14y"
      },
      "id": "qnpXI-VRA14y",
      "execution_count": 21,
      "outputs": []
    },
    {
      "cell_type": "code",
      "source": [
        "get_and_predict(10)"
      ],
      "metadata": {
        "colab": {
          "base_uri": "https://localhost:8080/"
        },
        "id": "M7MqvtbKJAfJ",
        "outputId": "0f27ff0a-6234-4357-a1d1-d436ba2a0efb"
      },
      "id": "M7MqvtbKJAfJ",
      "execution_count": 26,
      "outputs": [
        {
          "output_type": "stream",
          "name": "stdout",
          "text": [
            "got responses\n",
            "transformed records\n",
            "made predictions\n",
            "Connected to Google Cloud MySQL\n",
            "Total 68 Records inserted successfully into metadata table\n",
            "updated count tables\n",
            "The mySQL connection is closed\n"
          ]
        }
      ]
    },
    {
      "cell_type": "code",
      "source": [
        ""
      ],
      "metadata": {
        "id": "vMDoDpREEziJ"
      },
      "id": "vMDoDpREEziJ",
      "execution_count": null,
      "outputs": []
    }
  ],
  "metadata": {
    "kernelspec": {
      "display_name": "Python (learn-env)",
      "language": "python",
      "name": "learn-env"
    },
    "language_info": {
      "codemirror_mode": {
        "name": "ipython",
        "version": 3
      },
      "file_extension": ".py",
      "mimetype": "text/x-python",
      "name": "python",
      "nbconvert_exporter": "python",
      "pygments_lexer": "ipython3",
      "version": "3.8.5"
    },
    "toc": {
      "base_numbering": 1,
      "nav_menu": {},
      "number_sections": true,
      "sideBar": true,
      "skip_h1_title": false,
      "title_cell": "Table of Contents",
      "title_sidebar": "Contents",
      "toc_cell": false,
      "toc_position": {},
      "toc_section_display": true,
      "toc_window_display": true
    },
    "colab": {
      "name": "Fashion Annotation - Data Pipeline.ipynb",
      "provenance": [],
      "collapsed_sections": [],
      "toc_visible": true,
      "include_colab_link": true
    }
  },
  "nbformat": 4,
  "nbformat_minor": 5
}