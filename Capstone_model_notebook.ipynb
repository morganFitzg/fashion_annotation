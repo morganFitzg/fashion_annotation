{
  "nbformat": 4,
  "nbformat_minor": 0,
  "metadata": {
    "colab": {
      "name": "Capstone-model-notebook.ipynb",
      "provenance": [],
      "collapsed_sections": [],
      "toc_visible": true,
      "authorship_tag": "ABX9TyOAFk+rEOKAdbaKjoJgLB63",
      "include_colab_link": true
    },
    "kernelspec": {
      "name": "python3",
      "display_name": "Python 3"
    },
    "language_info": {
      "name": "python"
    }
  },
  "cells": [
    {
      "cell_type": "markdown",
      "metadata": {
        "id": "view-in-github",
        "colab_type": "text"
      },
      "source": [
        "<a href=\"https://colab.research.google.com/github/morganFitzg/fashion_annotation/blob/main/Capstone_model_notebook.ipynb\" target=\"_parent\"><img src=\"https://colab.research.google.com/assets/colab-badge.svg\" alt=\"Open In Colab\"/></a>"
      ]
    },
    {
      "cell_type": "markdown",
      "source": [
        "# Flatiron Capstone: Fashion Image Annotation\n",
        "\n",
        "Morgan Fitzgerald\n",
        "\n",
        "Instructor: Abhineet Kulkarni"
      ],
      "metadata": {
        "id": "ki_9xSNDcR0Z"
      }
    },
    {
      "cell_type": "markdown",
      "source": [
        "## Business Understanding"
      ],
      "metadata": {
        "id": "N_Zk4hDScdSO"
      }
    },
    {
      "cell_type": "markdown",
      "source": [
        "This project builds a proof of concept for a data pipeline that produces Instagram trend reports using information from the post images.\n",
        "\n",
        "While hashtag and comment data is readily available, one cannot always ascertain the kind of clothing being pictured from this information.  When making marketing or product development decisions, trend data that includes more specific details on what clothing is being pictured could be very useful. Additionally, fashion influencers, journalists, and stylists could benefit from more detailed trend data.\n",
        "\n",
        "Ultimately, the end user can view the data/results in a google data studio report built from a MySQL Google Cloud database.  The report can be filtered to show different time frames and data from specific categories and also provides a view of the images with the most likes from the selected clothing category."
      ],
      "metadata": {
        "id": "vp6qnbI_chHS"
      }
    },
    {
      "cell_type": "markdown",
      "source": [
        "## Data Understanding"
      ],
      "metadata": {
        "id": "33dkewUjhKHu"
      }
    },
    {
      "cell_type": "markdown",
      "source": [
        "The data used to train this model comes from the [iMaterialist fashion attribute dataset](https://arxiv.org/abs/1906.05750).  The dataset contains over a million images annotated with 8 different attributes.  Our model predicts three of these attributes: category, color and pattern.\n",
        "\n",
        "Upon examination of the data (in this notebook), it was clear that there is a significant amount of mislabeled data and certain labels could easily be confounded.  For example there are separate labels for 'jeans' and 'skinny jeans', yet images of skinny jeans being labeled as 'jeans'. Care was taken to simplify some of these confusing categories and group similar categories where a distinction is not critical for trend analysis.  \n",
        "\n",
        "After cleaning the data, the clothing category attribute has 57 different categories, pattern has 23 and color has 15.  \n",
        "\n",
        "With such a large number of images, it was not possible in the timeframe allocated for this project to correct mislabeling, but to increase accuracy of the model it would be important increase the quality of the data."
      ],
      "metadata": {
        "id": "jojuHyD2hNwy"
      }
    },
    {
      "cell_type": "markdown",
      "source": [
        "## Model"
      ],
      "metadata": {
        "id": "yE33wZ2_jGZ4"
      }
    },
    {
      "cell_type": "markdown",
      "source": [
        "The model performing annotations was built using transfer learning with the VGG16 image classification model as a backbone with three additional dense layers added with three branches, one for each attribute. The weights in the VGG16 layers were frozen during training.  Due to resource and time constraints, the model was trained on approximately 100,000 of the million images available. Training was performed in two rounds, two epochs each for two sets of approximately 50,000 images.\n",
        "\n",
        "The overall performance for the model is not at the level that would be required to deploy for commercial use, but it is far better than random guessing.  Below are the validation accuracy scores for each attribute:\n",
        "\n",
        "<ol>\n",
        "<li>Category: 48%</li>\n",
        "<li>Pattern: 75%</li>\n",
        "<li>Color: 53%</li>\n",
        "</ol>\n",
        "\n",
        "There are a number of ways that accuracy could be increased given more time and resources for the project. A few are listed below:\n",
        "\n",
        "<ol>\n",
        "<li>Improve data labeling</li>\n",
        "<li>Train the model on more images</li>\n",
        "<li>Unfreeze the weights in VGG16 layers during training to fine tune</li>\n",
        "<li>Add dense layers</li>\n",
        "<li>Investigate categories that are frequently mislabeled</li>\n",
        "<li>Try different loss function/optimizer</li>\n",
        "</ol>\n",
        "\n",
        "Ultimately, this project is more about a proof of concept and with 59, 23, and 15 categories respectively within each attribute the model is clearly achieving much higher accuracy than random guessing.  Research is ongoing in the field of image and especially fashion image annotation, as this is a challenging problem and a commercial grade model would require more time, resources, and perhaps some adjustments to the architecture.\n",
        "\n",
        "Finally, there are limitations to this model that could be addressed with a more complex architecture. When finding attributes, this model assumes there is only one piece of clothing pictured. However, in many cases there would be multiple items such as a shirt and pants or a dress and jacket. There are neural networks designed to identify different clothing articles within an image (and locate them) allowing different attributes to be assigned to each article. However, this was outside the scope of this project. "
      ],
      "metadata": {
        "id": "kxvPcqUyjjjx"
      }
    },
    {
      "cell_type": "markdown",
      "source": [
        "# Setup"
      ],
      "metadata": {
        "id": "d-kx3kX1E6-p"
      }
    },
    {
      "cell_type": "code",
      "execution_count": null,
      "metadata": {
        "colab": {
          "base_uri": "https://localhost:8080/"
        },
        "id": "gaX8kJBH-_6o",
        "outputId": "1b4303c1-bc80-44e6-a99a-1413a85ca1e7"
      },
      "outputs": [
        {
          "output_type": "stream",
          "name": "stdout",
          "text": [
            "Found GPU at: /device:GPU:0\n"
          ]
        }
      ],
      "source": [
        "%tensorflow_version 2.x\n",
        "import tensorflow as tf\n",
        "device_name = tf.test.gpu_device_name()\n",
        "if device_name != '/device:GPU:0':\n",
        "  raise SystemError('GPU device not found')\n",
        "print('Found GPU at: {}'.format(device_name))"
      ]
    },
    {
      "cell_type": "code",
      "source": [
        "gpu_info = !nvidia-smi\n",
        "gpu_info = '\\n'.join(gpu_info)\n",
        "if gpu_info.find('failed') >= 0:\n",
        "  print('Not connected to a GPU')\n",
        "else:\n",
        "  print(gpu_info)"
      ],
      "metadata": {
        "id": "5bcUnJSpKImJ",
        "colab": {
          "base_uri": "https://localhost:8080/"
        },
        "outputId": "71999bde-aed9-4847-9602-377cb8022189"
      },
      "execution_count": null,
      "outputs": [
        {
          "output_type": "stream",
          "name": "stdout",
          "text": [
            "Sun Apr 17 14:57:23 2022       \n",
            "+-----------------------------------------------------------------------------+\n",
            "| NVIDIA-SMI 460.32.03    Driver Version: 460.32.03    CUDA Version: 11.2     |\n",
            "|-------------------------------+----------------------+----------------------+\n",
            "| GPU  Name        Persistence-M| Bus-Id        Disp.A | Volatile Uncorr. ECC |\n",
            "| Fan  Temp  Perf  Pwr:Usage/Cap|         Memory-Usage | GPU-Util  Compute M. |\n",
            "|                               |                      |               MIG M. |\n",
            "|===============================+======================+======================|\n",
            "|   0  Tesla P100-PCIE...  Off  | 00000000:00:04.0 Off |                    0 |\n",
            "| N/A   35C    P0    32W / 250W |    375MiB / 16280MiB |      0%      Default |\n",
            "|                               |                      |                  N/A |\n",
            "+-------------------------------+----------------------+----------------------+\n",
            "                                                                               \n",
            "+-----------------------------------------------------------------------------+\n",
            "| Processes:                                                                  |\n",
            "|  GPU   GI   CI        PID   Type   Process name                  GPU Memory |\n",
            "|        ID   ID                                                   Usage      |\n",
            "|=============================================================================|\n",
            "+-----------------------------------------------------------------------------+\n"
          ]
        }
      ]
    },
    {
      "cell_type": "code",
      "source": [
        "import pandas as pd\n",
        "import numpy as np\n",
        "import matplotlib.pyplot as plt\n",
        "import requests\n",
        "from tensorflow.keras.layers import Input, Conv2D, Dense, Flatten, Dropout\n",
        "from tensorflow.keras.layers import GlobalAveragePooling2D\n",
        "from tensorflow.keras.models import Model\n",
        "from keras.models import Model\n",
        "from keras.applications.vgg16 import VGG16\n",
        "from keras.applications.vgg16 import preprocess_input\n",
        "from keras.preprocessing import image\n",
        "from keras.preprocessing.image import ImageDataGenerator\n",
        "from tensorflow.keras.utils import Sequence, to_categorical\n",
        "from keras.losses import CategoricalCrossentropy\n",
        "\n",
        "from sklearn.model_selection import train_test_split, StratifiedKFold\n",
        "from sklearn.metrics import confusion_matrix, accuracy_score\n",
        "import io \n",
        "from PIL import Image"
      ],
      "metadata": {
        "id": "0TuR0vIU_I-W"
      },
      "execution_count": null,
      "outputs": []
    },
    {
      "cell_type": "code",
      "source": [
        "#config\n",
        "IMAGE_SIZE=(224,224,3)\n",
        "epochs=3\n",
        "batch_size=32\n",
        "path='/content/drive/My Drive/fashion_annotation/images/'\n",
        "train_path='/content/drive/My Drive/fashion_annotation/imgs_train1/'\n",
        "val_path='/content/drive/My Drive/fashion_annotation/imgs_val1/'"
      ],
      "metadata": {
        "id": "reFfndvDBrIS"
      },
      "execution_count": null,
      "outputs": []
    },
    {
      "cell_type": "code",
      "source": [
        "from google.colab import drive\n",
        "drive.mount('/content/drive')"
      ],
      "metadata": {
        "colab": {
          "base_uri": "https://localhost:8080/"
        },
        "id": "1UWa37QeCBe0",
        "outputId": "9061da5e-9b65-4e26-9482-a1bf1f80b7e7"
      },
      "execution_count": null,
      "outputs": [
        {
          "output_type": "stream",
          "name": "stdout",
          "text": [
            "Mounted at /content/drive\n"
          ]
        }
      ]
    },
    {
      "cell_type": "markdown",
      "source": [
        "# Load Data\n",
        "\n",
        "The iMaterialist dataset was cleaned and formatted in a separate notebook.\n",
        "\n",
        "In this section, the data is separated into six separate groups stratified by the category attribute (and verified that the other attributes were also properly stratified). This is necessary because the images are downloaded onto google drive which times out when trying to access a file in a folder with too many files.  Therefore, separate subfolders where created for the training and validation sets of each of these 6 splits."
      ],
      "metadata": {
        "id": "IynVlWDaxbcQ"
      }
    },
    {
      "cell_type": "code",
      "source": [
        "data=pd.read_csv('/content/drive/My Drive/fashion_annotation/data_v2.csv')"
      ],
      "metadata": {
        "id": "BKvTLu03vGLy"
      },
      "execution_count": null,
      "outputs": []
    },
    {
      "cell_type": "code",
      "source": [
        "data.head()"
      ],
      "metadata": {
        "colab": {
          "base_uri": "https://localhost:8080/",
          "height": 206
        },
        "id": "vjGTnOzBvKlq",
        "outputId": "f77a28c9-af75-4cba-8cb0-aa96eab688aa"
      },
      "execution_count": null,
      "outputs": [
        {
          "output_type": "execute_result",
          "data": {
            "text/plain": [
              "   imageId    category  color pattern  \\\n",
              "0        7  Nightgowns  White    None   \n",
              "1        8     Blouses  Black    Mesh   \n",
              "2       11      Skirts  Green    None   \n",
              "3       13     Dresses  Black    None   \n",
              "4       14     Dresses  Black    None   \n",
              "\n",
              "                                                 url  \n",
              "0  http://contestimg.wish.com/api/webimage/52cbee...  \n",
              "1  http://contestimg.wish.com/api/webimage/53994b...  \n",
              "2  http://contestimg.wish.com/api/webimage/51bd84...  \n",
              "3  http://contestimg.wish.com/api/webimage/53e099...  \n",
              "4  http://contestimg.wish.com/api/webimage/543e92...  "
            ],
            "text/html": [
              "\n",
              "  <div id=\"df-e870d6ac-299f-41f2-89a0-21dfa16697ab\">\n",
              "    <div class=\"colab-df-container\">\n",
              "      <div>\n",
              "<style scoped>\n",
              "    .dataframe tbody tr th:only-of-type {\n",
              "        vertical-align: middle;\n",
              "    }\n",
              "\n",
              "    .dataframe tbody tr th {\n",
              "        vertical-align: top;\n",
              "    }\n",
              "\n",
              "    .dataframe thead th {\n",
              "        text-align: right;\n",
              "    }\n",
              "</style>\n",
              "<table border=\"1\" class=\"dataframe\">\n",
              "  <thead>\n",
              "    <tr style=\"text-align: right;\">\n",
              "      <th></th>\n",
              "      <th>imageId</th>\n",
              "      <th>category</th>\n",
              "      <th>color</th>\n",
              "      <th>pattern</th>\n",
              "      <th>url</th>\n",
              "    </tr>\n",
              "  </thead>\n",
              "  <tbody>\n",
              "    <tr>\n",
              "      <th>0</th>\n",
              "      <td>7</td>\n",
              "      <td>Nightgowns</td>\n",
              "      <td>White</td>\n",
              "      <td>None</td>\n",
              "      <td>http://contestimg.wish.com/api/webimage/52cbee...</td>\n",
              "    </tr>\n",
              "    <tr>\n",
              "      <th>1</th>\n",
              "      <td>8</td>\n",
              "      <td>Blouses</td>\n",
              "      <td>Black</td>\n",
              "      <td>Mesh</td>\n",
              "      <td>http://contestimg.wish.com/api/webimage/53994b...</td>\n",
              "    </tr>\n",
              "    <tr>\n",
              "      <th>2</th>\n",
              "      <td>11</td>\n",
              "      <td>Skirts</td>\n",
              "      <td>Green</td>\n",
              "      <td>None</td>\n",
              "      <td>http://contestimg.wish.com/api/webimage/51bd84...</td>\n",
              "    </tr>\n",
              "    <tr>\n",
              "      <th>3</th>\n",
              "      <td>13</td>\n",
              "      <td>Dresses</td>\n",
              "      <td>Black</td>\n",
              "      <td>None</td>\n",
              "      <td>http://contestimg.wish.com/api/webimage/53e099...</td>\n",
              "    </tr>\n",
              "    <tr>\n",
              "      <th>4</th>\n",
              "      <td>14</td>\n",
              "      <td>Dresses</td>\n",
              "      <td>Black</td>\n",
              "      <td>None</td>\n",
              "      <td>http://contestimg.wish.com/api/webimage/543e92...</td>\n",
              "    </tr>\n",
              "  </tbody>\n",
              "</table>\n",
              "</div>\n",
              "      <button class=\"colab-df-convert\" onclick=\"convertToInteractive('df-e870d6ac-299f-41f2-89a0-21dfa16697ab')\"\n",
              "              title=\"Convert this dataframe to an interactive table.\"\n",
              "              style=\"display:none;\">\n",
              "        \n",
              "  <svg xmlns=\"http://www.w3.org/2000/svg\" height=\"24px\"viewBox=\"0 0 24 24\"\n",
              "       width=\"24px\">\n",
              "    <path d=\"M0 0h24v24H0V0z\" fill=\"none\"/>\n",
              "    <path d=\"M18.56 5.44l.94 2.06.94-2.06 2.06-.94-2.06-.94-.94-2.06-.94 2.06-2.06.94zm-11 1L8.5 8.5l.94-2.06 2.06-.94-2.06-.94L8.5 2.5l-.94 2.06-2.06.94zm10 10l.94 2.06.94-2.06 2.06-.94-2.06-.94-.94-2.06-.94 2.06-2.06.94z\"/><path d=\"M17.41 7.96l-1.37-1.37c-.4-.4-.92-.59-1.43-.59-.52 0-1.04.2-1.43.59L10.3 9.45l-7.72 7.72c-.78.78-.78 2.05 0 2.83L4 21.41c.39.39.9.59 1.41.59.51 0 1.02-.2 1.41-.59l7.78-7.78 2.81-2.81c.8-.78.8-2.07 0-2.86zM5.41 20L4 18.59l7.72-7.72 1.47 1.35L5.41 20z\"/>\n",
              "  </svg>\n",
              "      </button>\n",
              "      \n",
              "  <style>\n",
              "    .colab-df-container {\n",
              "      display:flex;\n",
              "      flex-wrap:wrap;\n",
              "      gap: 12px;\n",
              "    }\n",
              "\n",
              "    .colab-df-convert {\n",
              "      background-color: #E8F0FE;\n",
              "      border: none;\n",
              "      border-radius: 50%;\n",
              "      cursor: pointer;\n",
              "      display: none;\n",
              "      fill: #1967D2;\n",
              "      height: 32px;\n",
              "      padding: 0 0 0 0;\n",
              "      width: 32px;\n",
              "    }\n",
              "\n",
              "    .colab-df-convert:hover {\n",
              "      background-color: #E2EBFA;\n",
              "      box-shadow: 0px 1px 2px rgba(60, 64, 67, 0.3), 0px 1px 3px 1px rgba(60, 64, 67, 0.15);\n",
              "      fill: #174EA6;\n",
              "    }\n",
              "\n",
              "    [theme=dark] .colab-df-convert {\n",
              "      background-color: #3B4455;\n",
              "      fill: #D2E3FC;\n",
              "    }\n",
              "\n",
              "    [theme=dark] .colab-df-convert:hover {\n",
              "      background-color: #434B5C;\n",
              "      box-shadow: 0px 1px 3px 1px rgba(0, 0, 0, 0.15);\n",
              "      filter: drop-shadow(0px 1px 2px rgba(0, 0, 0, 0.3));\n",
              "      fill: #FFFFFF;\n",
              "    }\n",
              "  </style>\n",
              "\n",
              "      <script>\n",
              "        const buttonEl =\n",
              "          document.querySelector('#df-e870d6ac-299f-41f2-89a0-21dfa16697ab button.colab-df-convert');\n",
              "        buttonEl.style.display =\n",
              "          google.colab.kernel.accessAllowed ? 'block' : 'none';\n",
              "\n",
              "        async function convertToInteractive(key) {\n",
              "          const element = document.querySelector('#df-e870d6ac-299f-41f2-89a0-21dfa16697ab');\n",
              "          const dataTable =\n",
              "            await google.colab.kernel.invokeFunction('convertToInteractive',\n",
              "                                                     [key], {});\n",
              "          if (!dataTable) return;\n",
              "\n",
              "          const docLinkHtml = 'Like what you see? Visit the ' +\n",
              "            '<a target=\"_blank\" href=https://colab.research.google.com/notebooks/data_table.ipynb>data table notebook</a>'\n",
              "            + ' to learn more about interactive tables.';\n",
              "          element.innerHTML = '';\n",
              "          dataTable['output_type'] = 'display_data';\n",
              "          await google.colab.output.renderOutput(dataTable, element);\n",
              "          const docLink = document.createElement('div');\n",
              "          docLink.innerHTML = docLinkHtml;\n",
              "          element.appendChild(docLink);\n",
              "        }\n",
              "      </script>\n",
              "    </div>\n",
              "  </div>\n",
              "  "
            ]
          },
          "metadata": {},
          "execution_count": 9
        }
      ]
    },
    {
      "cell_type": "code",
      "source": [
        "cat_num=data['category'].nunique()\n",
        "pat_num=data['pattern'].nunique()\n",
        "col_num=data['color'].nunique()\n",
        "print(cat_num)\n",
        "print(pat_num)\n",
        "print(col_num)"
      ],
      "metadata": {
        "colab": {
          "base_uri": "https://localhost:8080/"
        },
        "id": "M0yGVsP_CUaJ",
        "outputId": "08d22102-c9dc-433a-894a-0bdd3baa9a2b"
      },
      "execution_count": null,
      "outputs": [
        {
          "output_type": "stream",
          "name": "stdout",
          "text": [
            "57\n",
            "23\n",
            "15\n"
          ]
        }
      ]
    },
    {
      "cell_type": "markdown",
      "source": [
        "Integer codes for each of the attribute's categories are created as required for the keras to_categorical function that is used in the Image Generator."
      ],
      "metadata": {
        "id": "fqQ4TKt26lWt"
      }
    },
    {
      "cell_type": "code",
      "source": [
        "#create numerical codes for the category and pattern labels\n",
        "data.category=pd.Categorical(data.category)\n",
        "data['cat_codes']=data.category.cat.codes\n",
        "data.pattern=pd.Categorical(data.pattern)\n",
        "data['pat_codes']=data.pattern.cat.codes\n",
        "data.color=pd.Categorical(data.color)\n",
        "data['col_codes']=data.color.cat.codes\n",
        "\n",
        "#make key for the codes\n",
        "pattern_key=data.groupby('pattern').mean()['pat_codes'].astype(int)\n",
        "category_key=data.groupby('category').mean()['cat_codes'].astype(int)\n",
        "color_key=data.groupby('color').mean()['col_codes'].astype(int)\n",
        "color_key"
      ],
      "metadata": {
        "colab": {
          "base_uri": "https://localhost:8080/"
        },
        "id": "CYUAp3JMc7oH",
        "outputId": "6af0c22f-5c1b-48e8-b669-20637fe92607"
      },
      "execution_count": null,
      "outputs": [
        {
          "output_type": "execute_result",
          "data": {
            "text/plain": [
              "color\n",
              "Beige           0\n",
              "Black           1\n",
              "Blue            2\n",
              "Brown           3\n",
              "Gold            4\n",
              "Gray            5\n",
              "Green           6\n",
              "Multi Color     7\n",
              "Orange          8\n",
              "Pink            9\n",
              "Purple         10\n",
              "Red            11\n",
              "Silver         12\n",
              "White          13\n",
              "Yellow         14\n",
              "Name: col_codes, dtype: int64"
            ]
          },
          "metadata": {},
          "execution_count": 5
        }
      ]
    },
    {
      "cell_type": "code",
      "source": [
        "pattern_key=pattern_key.reset_index()\n",
        "category_key=category_key.reset_index()\n",
        "color_key=color_key.reset_index()"
      ],
      "metadata": {
        "id": "SP1xFyldgN9G"
      },
      "execution_count": null,
      "outputs": []
    },
    {
      "cell_type": "code",
      "source": [
        "#save keys for use in other notebook to translate prediction back to text\n",
        "pattern_key.to_csv('/content/drive/My Drive/fashion_annotation/pattern_key.csv')\n",
        "category_key.to_csv('/content/drive/My Drive/fashion_annotation/category_key.csv')\n",
        "color_key.to_csv('/content/drive/My Drive/fashion_annotation/color_key.csv')"
      ],
      "metadata": {
        "id": "0wtCWYVDd8f9"
      },
      "execution_count": null,
      "outputs": []
    },
    {
      "cell_type": "code",
      "source": [
        "#split data into 6 parts to train separately\n",
        "#stratify based on category label\n",
        "\n",
        "X=data['url']\n",
        "y=data[['cat_codes','pat_codes','col_codes']]\n",
        "\n",
        "test_sizes=[.83,.8,.75,.67,.5]\n",
        "\n",
        "splits=[]\n",
        "\n",
        "for ts in test_sizes:\n",
        "  X_use, X, y_use, y = train_test_split(X,y,test_size=ts,\n",
        "                                        random_state=42,\n",
        "                                        stratify=y['cat_codes'])\n",
        "  split=pd.concat([X_use,y_use],axis=1)\n",
        "  print(split.shape)\n",
        "  splits.append(split)\n",
        "\n",
        "last_split=pd.concat([X,y],axis=1)\n",
        "print(last_split.shape)\n",
        "splits.append(last_split)"
      ],
      "metadata": {
        "colab": {
          "base_uri": "https://localhost:8080/"
        },
        "id": "ZxSuslp5wOQY",
        "outputId": "319b5d4f-81da-44c8-d628-593d17f4fe39"
      },
      "execution_count": null,
      "outputs": [
        {
          "output_type": "stream",
          "name": "stdout",
          "text": [
            "(68323, 4)\n",
            "(66715, 4)\n",
            "(66716, 4)\n",
            "(66048, 4)\n",
            "(67050, 4)\n",
            "(67050, 4)\n"
          ]
        }
      ]
    },
    {
      "cell_type": "code",
      "source": [
        "train_0, val_0=folds[0]"
      ],
      "metadata": {
        "id": "CoaMEtL-25CY"
      },
      "execution_count": null,
      "outputs": []
    },
    {
      "cell_type": "code",
      "source": [
        "#check distribution of classes across labels in all splits\n",
        "\n",
        "#number of classes per label\n",
        "\n",
        "class_counts=[]\n",
        "\n",
        "for split in splits:\n",
        "  class_num={}\n",
        "  class_num['train_cat']=split['cat_codes'].nunique()\n",
        "  class_num['train_pat']=split['pat_codes'].nunique()\n",
        "  class_num['train_col']=split['col_codes'].nunique()\n",
        "  class_counts.append(class_num)\n",
        "\n",
        "class_counts_df=pd.DataFrame(class_counts)\n",
        "class_counts_df"
      ],
      "metadata": {
        "colab": {
          "base_uri": "https://localhost:8080/",
          "height": 237
        },
        "id": "pJmsIO_R3CcU",
        "outputId": "bca3194d-cda7-443d-bfd6-fc839963db3a"
      },
      "execution_count": null,
      "outputs": [
        {
          "output_type": "execute_result",
          "data": {
            "text/plain": [
              "   train_cat  train_pat  train_col\n",
              "0         57         23         15\n",
              "1         57         23         15\n",
              "2         57         23         15\n",
              "3         57         23         15\n",
              "4         57         23         15\n",
              "5         57         23         15"
            ],
            "text/html": [
              "\n",
              "  <div id=\"df-b2218379-6fe5-4871-a1e4-6b868c37d119\">\n",
              "    <div class=\"colab-df-container\">\n",
              "      <div>\n",
              "<style scoped>\n",
              "    .dataframe tbody tr th:only-of-type {\n",
              "        vertical-align: middle;\n",
              "    }\n",
              "\n",
              "    .dataframe tbody tr th {\n",
              "        vertical-align: top;\n",
              "    }\n",
              "\n",
              "    .dataframe thead th {\n",
              "        text-align: right;\n",
              "    }\n",
              "</style>\n",
              "<table border=\"1\" class=\"dataframe\">\n",
              "  <thead>\n",
              "    <tr style=\"text-align: right;\">\n",
              "      <th></th>\n",
              "      <th>train_cat</th>\n",
              "      <th>train_pat</th>\n",
              "      <th>train_col</th>\n",
              "    </tr>\n",
              "  </thead>\n",
              "  <tbody>\n",
              "    <tr>\n",
              "      <th>0</th>\n",
              "      <td>57</td>\n",
              "      <td>23</td>\n",
              "      <td>15</td>\n",
              "    </tr>\n",
              "    <tr>\n",
              "      <th>1</th>\n",
              "      <td>57</td>\n",
              "      <td>23</td>\n",
              "      <td>15</td>\n",
              "    </tr>\n",
              "    <tr>\n",
              "      <th>2</th>\n",
              "      <td>57</td>\n",
              "      <td>23</td>\n",
              "      <td>15</td>\n",
              "    </tr>\n",
              "    <tr>\n",
              "      <th>3</th>\n",
              "      <td>57</td>\n",
              "      <td>23</td>\n",
              "      <td>15</td>\n",
              "    </tr>\n",
              "    <tr>\n",
              "      <th>4</th>\n",
              "      <td>57</td>\n",
              "      <td>23</td>\n",
              "      <td>15</td>\n",
              "    </tr>\n",
              "    <tr>\n",
              "      <th>5</th>\n",
              "      <td>57</td>\n",
              "      <td>23</td>\n",
              "      <td>15</td>\n",
              "    </tr>\n",
              "  </tbody>\n",
              "</table>\n",
              "</div>\n",
              "      <button class=\"colab-df-convert\" onclick=\"convertToInteractive('df-b2218379-6fe5-4871-a1e4-6b868c37d119')\"\n",
              "              title=\"Convert this dataframe to an interactive table.\"\n",
              "              style=\"display:none;\">\n",
              "        \n",
              "  <svg xmlns=\"http://www.w3.org/2000/svg\" height=\"24px\"viewBox=\"0 0 24 24\"\n",
              "       width=\"24px\">\n",
              "    <path d=\"M0 0h24v24H0V0z\" fill=\"none\"/>\n",
              "    <path d=\"M18.56 5.44l.94 2.06.94-2.06 2.06-.94-2.06-.94-.94-2.06-.94 2.06-2.06.94zm-11 1L8.5 8.5l.94-2.06 2.06-.94-2.06-.94L8.5 2.5l-.94 2.06-2.06.94zm10 10l.94 2.06.94-2.06 2.06-.94-2.06-.94-.94-2.06-.94 2.06-2.06.94z\"/><path d=\"M17.41 7.96l-1.37-1.37c-.4-.4-.92-.59-1.43-.59-.52 0-1.04.2-1.43.59L10.3 9.45l-7.72 7.72c-.78.78-.78 2.05 0 2.83L4 21.41c.39.39.9.59 1.41.59.51 0 1.02-.2 1.41-.59l7.78-7.78 2.81-2.81c.8-.78.8-2.07 0-2.86zM5.41 20L4 18.59l7.72-7.72 1.47 1.35L5.41 20z\"/>\n",
              "  </svg>\n",
              "      </button>\n",
              "      \n",
              "  <style>\n",
              "    .colab-df-container {\n",
              "      display:flex;\n",
              "      flex-wrap:wrap;\n",
              "      gap: 12px;\n",
              "    }\n",
              "\n",
              "    .colab-df-convert {\n",
              "      background-color: #E8F0FE;\n",
              "      border: none;\n",
              "      border-radius: 50%;\n",
              "      cursor: pointer;\n",
              "      display: none;\n",
              "      fill: #1967D2;\n",
              "      height: 32px;\n",
              "      padding: 0 0 0 0;\n",
              "      width: 32px;\n",
              "    }\n",
              "\n",
              "    .colab-df-convert:hover {\n",
              "      background-color: #E2EBFA;\n",
              "      box-shadow: 0px 1px 2px rgba(60, 64, 67, 0.3), 0px 1px 3px 1px rgba(60, 64, 67, 0.15);\n",
              "      fill: #174EA6;\n",
              "    }\n",
              "\n",
              "    [theme=dark] .colab-df-convert {\n",
              "      background-color: #3B4455;\n",
              "      fill: #D2E3FC;\n",
              "    }\n",
              "\n",
              "    [theme=dark] .colab-df-convert:hover {\n",
              "      background-color: #434B5C;\n",
              "      box-shadow: 0px 1px 3px 1px rgba(0, 0, 0, 0.15);\n",
              "      filter: drop-shadow(0px 1px 2px rgba(0, 0, 0, 0.3));\n",
              "      fill: #FFFFFF;\n",
              "    }\n",
              "  </style>\n",
              "\n",
              "      <script>\n",
              "        const buttonEl =\n",
              "          document.querySelector('#df-b2218379-6fe5-4871-a1e4-6b868c37d119 button.colab-df-convert');\n",
              "        buttonEl.style.display =\n",
              "          google.colab.kernel.accessAllowed ? 'block' : 'none';\n",
              "\n",
              "        async function convertToInteractive(key) {\n",
              "          const element = document.querySelector('#df-b2218379-6fe5-4871-a1e4-6b868c37d119');\n",
              "          const dataTable =\n",
              "            await google.colab.kernel.invokeFunction('convertToInteractive',\n",
              "                                                     [key], {});\n",
              "          if (!dataTable) return;\n",
              "\n",
              "          const docLinkHtml = 'Like what you see? Visit the ' +\n",
              "            '<a target=\"_blank\" href=https://colab.research.google.com/notebooks/data_table.ipynb>data table notebook</a>'\n",
              "            + ' to learn more about interactive tables.';\n",
              "          element.innerHTML = '';\n",
              "          dataTable['output_type'] = 'display_data';\n",
              "          await google.colab.output.renderOutput(dataTable, element);\n",
              "          const docLink = document.createElement('div');\n",
              "          docLink.innerHTML = docLinkHtml;\n",
              "          element.appendChild(docLink);\n",
              "        }\n",
              "      </script>\n",
              "    </div>\n",
              "  </div>\n",
              "  "
            ]
          },
          "metadata": {},
          "execution_count": 42
        }
      ]
    },
    {
      "cell_type": "code",
      "source": [
        "#create train and val sets in each split and verify stratification of labels\n",
        "train_val_splits=[]\n",
        "class_counts=[]\n",
        "\n",
        "for split in splits:\n",
        "  X=split['url']\n",
        "  y=split[['cat_codes','pat_codes','col_codes']]\n",
        "  X_train,X_val,y_train,y_val=train_test_split(X,y,test_size=.2,\n",
        "                                               stratify=y['cat_codes'])\n",
        "  train_data=pd.concat([X_train,y_train],axis=1)\n",
        "  val_data=pd.concat([X_val,y_val],axis=1)\n",
        "  train_val_splits.append((train_data,val_data))\n",
        "\n",
        "  class_num={}\n",
        "  class_num['train_cat']=train_data['cat_codes'].nunique()\n",
        "  class_num['val_cat']=val_data['cat_codes'].nunique()\n",
        "  class_num['train_pat']=train_data['pat_codes'].nunique()\n",
        "  class_num['val_pat']=val_data['pat_codes'].nunique()\n",
        "  class_num['train_col']=train_data['col_codes'].nunique()\n",
        "  class_num['val_col']=val_data['col_codes'].nunique()\n",
        "  class_counts.append(class_num)\n",
        "\n",
        "counts_df=pd.DataFrame(class_counts)\n",
        "counts_df"
      ],
      "metadata": {
        "colab": {
          "base_uri": "https://localhost:8080/",
          "height": 237
        },
        "id": "RhrRWxfi1Sej",
        "outputId": "a7a35998-040f-43ff-bb1b-82d4b015f52e"
      },
      "execution_count": null,
      "outputs": [
        {
          "output_type": "execute_result",
          "data": {
            "text/plain": [
              "   train_cat  val_cat  train_pat  val_pat  train_col  val_col\n",
              "0         57       57         23       23         15       15\n",
              "1         57       57         23       23         15       15\n",
              "2         57       57         23       23         15       15\n",
              "3         57       57         23       23         15       15\n",
              "4         57       57         23       23         15       15\n",
              "5         57       57         23       23         15       15"
            ],
            "text/html": [
              "\n",
              "  <div id=\"df-a515d3f7-8a28-4f64-893b-4f0070d77ce7\">\n",
              "    <div class=\"colab-df-container\">\n",
              "      <div>\n",
              "<style scoped>\n",
              "    .dataframe tbody tr th:only-of-type {\n",
              "        vertical-align: middle;\n",
              "    }\n",
              "\n",
              "    .dataframe tbody tr th {\n",
              "        vertical-align: top;\n",
              "    }\n",
              "\n",
              "    .dataframe thead th {\n",
              "        text-align: right;\n",
              "    }\n",
              "</style>\n",
              "<table border=\"1\" class=\"dataframe\">\n",
              "  <thead>\n",
              "    <tr style=\"text-align: right;\">\n",
              "      <th></th>\n",
              "      <th>train_cat</th>\n",
              "      <th>val_cat</th>\n",
              "      <th>train_pat</th>\n",
              "      <th>val_pat</th>\n",
              "      <th>train_col</th>\n",
              "      <th>val_col</th>\n",
              "    </tr>\n",
              "  </thead>\n",
              "  <tbody>\n",
              "    <tr>\n",
              "      <th>0</th>\n",
              "      <td>57</td>\n",
              "      <td>57</td>\n",
              "      <td>23</td>\n",
              "      <td>23</td>\n",
              "      <td>15</td>\n",
              "      <td>15</td>\n",
              "    </tr>\n",
              "    <tr>\n",
              "      <th>1</th>\n",
              "      <td>57</td>\n",
              "      <td>57</td>\n",
              "      <td>23</td>\n",
              "      <td>23</td>\n",
              "      <td>15</td>\n",
              "      <td>15</td>\n",
              "    </tr>\n",
              "    <tr>\n",
              "      <th>2</th>\n",
              "      <td>57</td>\n",
              "      <td>57</td>\n",
              "      <td>23</td>\n",
              "      <td>23</td>\n",
              "      <td>15</td>\n",
              "      <td>15</td>\n",
              "    </tr>\n",
              "    <tr>\n",
              "      <th>3</th>\n",
              "      <td>57</td>\n",
              "      <td>57</td>\n",
              "      <td>23</td>\n",
              "      <td>23</td>\n",
              "      <td>15</td>\n",
              "      <td>15</td>\n",
              "    </tr>\n",
              "    <tr>\n",
              "      <th>4</th>\n",
              "      <td>57</td>\n",
              "      <td>57</td>\n",
              "      <td>23</td>\n",
              "      <td>23</td>\n",
              "      <td>15</td>\n",
              "      <td>15</td>\n",
              "    </tr>\n",
              "    <tr>\n",
              "      <th>5</th>\n",
              "      <td>57</td>\n",
              "      <td>57</td>\n",
              "      <td>23</td>\n",
              "      <td>23</td>\n",
              "      <td>15</td>\n",
              "      <td>15</td>\n",
              "    </tr>\n",
              "  </tbody>\n",
              "</table>\n",
              "</div>\n",
              "      <button class=\"colab-df-convert\" onclick=\"convertToInteractive('df-a515d3f7-8a28-4f64-893b-4f0070d77ce7')\"\n",
              "              title=\"Convert this dataframe to an interactive table.\"\n",
              "              style=\"display:none;\">\n",
              "        \n",
              "  <svg xmlns=\"http://www.w3.org/2000/svg\" height=\"24px\"viewBox=\"0 0 24 24\"\n",
              "       width=\"24px\">\n",
              "    <path d=\"M0 0h24v24H0V0z\" fill=\"none\"/>\n",
              "    <path d=\"M18.56 5.44l.94 2.06.94-2.06 2.06-.94-2.06-.94-.94-2.06-.94 2.06-2.06.94zm-11 1L8.5 8.5l.94-2.06 2.06-.94-2.06-.94L8.5 2.5l-.94 2.06-2.06.94zm10 10l.94 2.06.94-2.06 2.06-.94-2.06-.94-.94-2.06-.94 2.06-2.06.94z\"/><path d=\"M17.41 7.96l-1.37-1.37c-.4-.4-.92-.59-1.43-.59-.52 0-1.04.2-1.43.59L10.3 9.45l-7.72 7.72c-.78.78-.78 2.05 0 2.83L4 21.41c.39.39.9.59 1.41.59.51 0 1.02-.2 1.41-.59l7.78-7.78 2.81-2.81c.8-.78.8-2.07 0-2.86zM5.41 20L4 18.59l7.72-7.72 1.47 1.35L5.41 20z\"/>\n",
              "  </svg>\n",
              "      </button>\n",
              "      \n",
              "  <style>\n",
              "    .colab-df-container {\n",
              "      display:flex;\n",
              "      flex-wrap:wrap;\n",
              "      gap: 12px;\n",
              "    }\n",
              "\n",
              "    .colab-df-convert {\n",
              "      background-color: #E8F0FE;\n",
              "      border: none;\n",
              "      border-radius: 50%;\n",
              "      cursor: pointer;\n",
              "      display: none;\n",
              "      fill: #1967D2;\n",
              "      height: 32px;\n",
              "      padding: 0 0 0 0;\n",
              "      width: 32px;\n",
              "    }\n",
              "\n",
              "    .colab-df-convert:hover {\n",
              "      background-color: #E2EBFA;\n",
              "      box-shadow: 0px 1px 2px rgba(60, 64, 67, 0.3), 0px 1px 3px 1px rgba(60, 64, 67, 0.15);\n",
              "      fill: #174EA6;\n",
              "    }\n",
              "\n",
              "    [theme=dark] .colab-df-convert {\n",
              "      background-color: #3B4455;\n",
              "      fill: #D2E3FC;\n",
              "    }\n",
              "\n",
              "    [theme=dark] .colab-df-convert:hover {\n",
              "      background-color: #434B5C;\n",
              "      box-shadow: 0px 1px 3px 1px rgba(0, 0, 0, 0.15);\n",
              "      filter: drop-shadow(0px 1px 2px rgba(0, 0, 0, 0.3));\n",
              "      fill: #FFFFFF;\n",
              "    }\n",
              "  </style>\n",
              "\n",
              "      <script>\n",
              "        const buttonEl =\n",
              "          document.querySelector('#df-a515d3f7-8a28-4f64-893b-4f0070d77ce7 button.colab-df-convert');\n",
              "        buttonEl.style.display =\n",
              "          google.colab.kernel.accessAllowed ? 'block' : 'none';\n",
              "\n",
              "        async function convertToInteractive(key) {\n",
              "          const element = document.querySelector('#df-a515d3f7-8a28-4f64-893b-4f0070d77ce7');\n",
              "          const dataTable =\n",
              "            await google.colab.kernel.invokeFunction('convertToInteractive',\n",
              "                                                     [key], {});\n",
              "          if (!dataTable) return;\n",
              "\n",
              "          const docLinkHtml = 'Like what you see? Visit the ' +\n",
              "            '<a target=\"_blank\" href=https://colab.research.google.com/notebooks/data_table.ipynb>data table notebook</a>'\n",
              "            + ' to learn more about interactive tables.';\n",
              "          element.innerHTML = '';\n",
              "          dataTable['output_type'] = 'display_data';\n",
              "          await google.colab.output.renderOutput(dataTable, element);\n",
              "          const docLink = document.createElement('div');\n",
              "          docLink.innerHTML = docLinkHtml;\n",
              "          element.appendChild(docLink);\n",
              "        }\n",
              "      </script>\n",
              "    </div>\n",
              "  </div>\n",
              "  "
            ]
          },
          "metadata": {},
          "execution_count": 48
        }
      ]
    },
    {
      "cell_type": "code",
      "source": [
        "#save each train and val df as csv for reproducability\n",
        "\n",
        "for n in range(6):\n",
        "  train=train_val_splits[n][0]\n",
        "  val=train_val_splits[n][1]\n",
        "  t_path='/content/drive/My Drive/fashion_annotation/data_splits/train_'+str(n)+'.csv'\n",
        "  v_path='/content/drive/My Drive/fashion_annotation/data_splits/val_'+str(n)+'.csv'\n",
        "  train.to_csv(t_path)\n",
        "  val.to_csv(v_path)"
      ],
      "metadata": {
        "id": "touFael4HoOv"
      },
      "execution_count": null,
      "outputs": []
    },
    {
      "cell_type": "markdown",
      "source": [
        "# Download Images"
      ],
      "metadata": {
        "id": "Z4ezBYEMJM4P"
      }
    },
    {
      "cell_type": "markdown",
      "source": [
        "In this section, images are downloaded in to google drive. Each image is also tested to ensure it opens properly prior to training the model, since some of the urls did not contain good data and it stops the whole training process."
      ],
      "metadata": {
        "id": "yZq05QKd7-h9"
      }
    },
    {
      "cell_type": "code",
      "source": [
        "#download images into the right folder on google drive"
      ],
      "metadata": {
        "id": "aEC4S2OKKCRV"
      },
      "execution_count": null,
      "outputs": []
    },
    {
      "cell_type": "code",
      "source": [
        "#function that takes url, downloads image and saves it to drive\n",
        "def write_im_data(url,path):\n",
        "\n",
        "  response=requests.get(url,stream=True)\n",
        "  im=response.content\n",
        "\n",
        "  with open (path+url[-30:]+'.bin','wb') as f:\n",
        "    f.write(im)"
      ],
      "metadata": {
        "id": "B7QHmlXMWqy3"
      },
      "execution_count": null,
      "outputs": []
    },
    {
      "cell_type": "code",
      "source": [
        "#takes a list of files and calls write_im_data to download each one\n",
        "def write_images(df,path):\n",
        "  count=0\n",
        "  urls=df['url'].to_list()\n",
        "  print('this many files: {}'.format(len(urls)))\n",
        "  for url in urls:\n",
        "    write_im_data(url,path)\n",
        "    count+=1\n",
        "    if count%1000==0:\n",
        "      print(count)\n",
        "  print('downloaded all files')"
      ],
      "metadata": {
        "id": "rkAcMr94X-Mp"
      },
      "execution_count": null,
      "outputs": []
    },
    {
      "cell_type": "code",
      "source": [
        "path='/content/drive/My Drive/fashion_annotation/imgs_split/train_2/'\n",
        "train_2=pd.read_csv('/content/drive/My Drive/fashion_annotation/data_splits/train_2.csv')\n",
        "\n",
        "write_images(train_2,path)"
      ],
      "metadata": {
        "id": "t9ExXIEUdW-f"
      },
      "execution_count": null,
      "outputs": []
    },
    {
      "cell_type": "code",
      "source": [
        "#Test if the urls in train_data and val_data are present in directory\n",
        "\n",
        "def find_missing_urls(urls):\n",
        "  bad_urls=[] \n",
        "\n",
        "  for url in urls:\n",
        "    try:\n",
        "      with open(path+url[-30:]+'.bin','rb') as f:\n",
        "        im=f.read()\n",
        "    except Exception as e:\n",
        "      bad_urls.append(url)\n",
        "    \n",
        "  return bad_urls\n",
        "\n",
        "#test if images in directory open properly\n",
        "def test_urls(df,path):\n",
        "  count=0\n",
        "  bad_urls=[] \n",
        "  urls=df['url'].to_list()\n",
        "  print('test {} images'.format(len(urls)))\n",
        "  for url in urls:\n",
        "    try:\n",
        "      with open(path+url[-30:]+'.bin','rb') as f:\n",
        "        im=f.read()\n",
        "        byte_im=io.BytesIO(im)\n",
        "        #byte_im.seek(0)\n",
        "        img=Image.open(byte_im)\n",
        "    except Exception as e:\n",
        "      bad_urls.append(url)\n",
        "    count+=1\n",
        "    if count%5000==0:\n",
        "      print(count)\n",
        "  print('tested all urls')\n",
        "  return bad_urls"
      ],
      "metadata": {
        "id": "Gq5QA0Zwc2Pf"
      },
      "execution_count": null,
      "outputs": []
    },
    {
      "cell_type": "code",
      "source": [
        "path='/content/drive/My Drive/fashion_annotation/imgs_split/train_1/'\n",
        "train_1=pd.read_csv('/content/drive/My Drive/fashion_annotation/data_splits/train_1.csv')\n",
        "\n",
        "bad_urls= test_urls(train_1,path)"
      ],
      "metadata": {
        "colab": {
          "base_uri": "https://localhost:8080/"
        },
        "id": "IBw4SOZ_mWDg",
        "outputId": "60e8e218-08d7-4a02-e846-abd882fd9e64"
      },
      "execution_count": null,
      "outputs": [
        {
          "output_type": "stream",
          "name": "stdout",
          "text": [
            "test 53372 images\n",
            "5000\n",
            "10000\n",
            "15000\n",
            "20000\n",
            "25000\n",
            "30000\n",
            "35000\n",
            "40000\n",
            "45000\n",
            "50000\n",
            "tested all urls\n"
          ]
        }
      ]
    },
    {
      "cell_type": "code",
      "source": [
        "bad_urls"
      ],
      "metadata": {
        "colab": {
          "base_uri": "https://localhost:8080/"
        },
        "id": "4OeHkjYESou9",
        "outputId": "1eedd3a4-cc3b-4105-a153-684bda138707"
      },
      "execution_count": null,
      "outputs": [
        {
          "output_type": "execute_result",
          "data": {
            "text/plain": [
              "['http://contestimg.wish.com/api/webimage/565a6b3be389f71618d11c15-large',\n",
              " 'http://contestimg.wish.com/api/webimage/52376c551c238844b7acef99-large',\n",
              " 'http://contestimg.wish.com/api/webimage/54aeebf028565a09587cb876-large',\n",
              " 'http://contestimg.wish.com/api/webimage/56c2700fe7acaa15604a00e1-large',\n",
              " 'http://contestimg.wish.com/api/webimage/571df4756c085a5cf37ae849-large',\n",
              " 'http://contestimg.wish.com/api/webimage/54509e2de03c9e105de8d78a-large',\n",
              " 'http://contestimg.wish.com/api/webimage/53e06d0ad911394469ed784e-large',\n",
              " 'http://contestimg.wish.com/api/webimage/58df178a52c93869e1d07f08-large']"
            ]
          },
          "metadata": {},
          "execution_count": 27
        }
      ]
    },
    {
      "cell_type": "code",
      "source": [
        "#remove bad urls\n",
        "\n",
        "def remove_urls(df,bad_urls,path):\n",
        "  print(df.shape)\n",
        "  for url in bad_urls:\n",
        "    df=df[df['url']!=url]\n",
        "  print(df.shape)\n",
        "  df.to_csv(path)\n",
        "  print('wrote new file')"
      ],
      "metadata": {
        "id": "GvtMfzGu04l-"
      },
      "execution_count": null,
      "outputs": []
    },
    {
      "cell_type": "code",
      "source": [
        "path='/content/drive/My Drive/fashion_annotation/data_splits/train_1.csv'\n",
        "\n",
        "remove_urls(train_1,bad_urls,path)"
      ],
      "metadata": {
        "colab": {
          "base_uri": "https://localhost:8080/"
        },
        "id": "6mlTdJtpTQeI",
        "outputId": "49857b5d-997d-4502-c78b-a62765dfa5b2"
      },
      "execution_count": null,
      "outputs": [
        {
          "output_type": "stream",
          "name": "stdout",
          "text": [
            "(53372, 5)\n",
            "(53364, 5)\n",
            "wrote new file\n"
          ]
        }
      ]
    },
    {
      "cell_type": "markdown",
      "source": [
        "# Load Prepared Data"
      ],
      "metadata": {
        "id": "AnLG3QxHGtS2"
      }
    },
    {
      "cell_type": "markdown",
      "source": [
        "Load the split to be trained on the model"
      ],
      "metadata": {
        "id": "Fm2xDwoh8cPA"
      }
    },
    {
      "cell_type": "code",
      "source": [
        "train_data=pd.read_csv('/content/drive/My Drive/fashion_annotation/data_splits/train_1.csv')\n",
        "val_data=pd.read_csv('/content/drive/My Drive/fashion_annotation/data_splits/val_1.csv')"
      ],
      "metadata": {
        "id": "JdT6hFWjXL8Z"
      },
      "execution_count": null,
      "outputs": []
    },
    {
      "cell_type": "code",
      "source": [
        "cat_num=train_data['cat_codes'].nunique()\n",
        "pat_num=train_data['pat_codes'].nunique()\n",
        "col_num=train_data['col_codes'].nunique()\n",
        "print(cat_num)\n",
        "print(pat_num)\n",
        "print(col_num)"
      ],
      "metadata": {
        "colab": {
          "base_uri": "https://localhost:8080/"
        },
        "id": "xUSpoIedu9iT",
        "outputId": "84d5c919-a889-48f6-d960-80b9e6d68046"
      },
      "execution_count": null,
      "outputs": [
        {
          "output_type": "stream",
          "name": "stdout",
          "text": [
            "57\n",
            "23\n",
            "15\n"
          ]
        }
      ]
    },
    {
      "cell_type": "code",
      "source": [
        "y_col_dict={'pattern':'pat_codes','category':'cat_codes','color':'col_codes'}"
      ],
      "metadata": {
        "id": "6r8HVTX2Mb9K"
      },
      "execution_count": null,
      "outputs": []
    },
    {
      "cell_type": "markdown",
      "source": [
        "# Build Custom Image Generator"
      ],
      "metadata": {
        "id": "LS_A28WO_r3V"
      }
    },
    {
      "cell_type": "markdown",
      "source": [
        "Build a custom data generator that downloads images for a batch, resize, convert to numpy array.  "
      ],
      "metadata": {
        "id": "20mX68RXCRJb"
      }
    },
    {
      "cell_type": "code",
      "source": [
        "class CustomImageGen(Sequence):\n",
        "  def __init__(self, df, X_col, y_col,\n",
        "               batch_size,\n",
        "               path,\n",
        "               input_size=(224,224,3),\n",
        "               shuffle=True):\n",
        "    self.df = df\n",
        "    self.X_col = X_col\n",
        "    self.y_col = y_col\n",
        "    self.batch_size = batch_size\n",
        "    self.input_size = input_size\n",
        "    self.shuffle = shuffle\n",
        "    self.path = path \n",
        "\n",
        "    self.n = len(self.df)\n",
        "    self.n_cat = df[y_col['category']].nunique()\n",
        "    self.n_pat = df[y_col['pattern']].nunique()\n",
        "    self.n_col = df[y_col['color']].nunique()\n",
        "  \n",
        "  def on_epoch_end(self):\n",
        "    if self.shuffle:\n",
        "      self.df = self.df.sample(frac=1).reset_index(drop=True)\n",
        "\n",
        "  def __getim_(self,url):\n",
        "    \"\"\"\n",
        "    download image from url, open from byte string format,\n",
        "    resize and convert to np array (224,224,3)\n",
        "    \"\"\"\n",
        "    #print(url)\n",
        "    #response=requests.get(url,stream=True)\n",
        "    #im=response.content\n",
        "    with open(self.path+url[-30:]+'.bin','rb') as f:\n",
        "      im=f.read()\n",
        "    byte_im=io.BytesIO(im)\n",
        "    #byte_im.seek(0)\n",
        "    img=Image.open(byte_im)\n",
        "    img_sized=img.resize((224,224))\n",
        "    im_array=np.asarray(img_sized)\n",
        "    return im_array\n",
        "\n",
        "  def __get_images(self,url_batch):\n",
        "    \"\"\"\n",
        "    initiate image array for batch, \n",
        "    call __getim_ to load each image to array\n",
        "    preprocess batch for VGG and return array size (batch_size,224,224,3)\n",
        "    \"\"\"\n",
        "    dims=[x for x in self.input_size]\n",
        "    im_array=np.zeros((self.batch_size,dims[0],dims[1],dims[2]))\n",
        "\n",
        "    for count,url in enumerate(url_batch):\n",
        "      im_array[count,:,:,:]=self.__getim_(url)\n",
        "\n",
        "    #preprocess for VGG and return\n",
        "    return preprocess_input(im_array)\n",
        "\n",
        "  def __get_data(self, batches):\n",
        "    url_batch = batches[self.X_col]\n",
        "\n",
        "    cat_batch = batches[self.y_col['category']]\n",
        "    pat_batch = batches[self.y_col['pattern']]\n",
        "    col_batch = batches[self.y_col['color']]\n",
        "\n",
        "    X_array = self.__get_images(url_batch)\n",
        "\n",
        "    #ohe the output labels\n",
        "    y_cat=to_categorical(cat_batch,self.n_cat)\n",
        "    y_pat=to_categorical(pat_batch,self.n_pat)\n",
        "    y_color=to_categorical(col_batch,self.n_col)\n",
        "\n",
        "    return X_array, (y_cat,y_pat,y_color)\n",
        "\n",
        "  def __getitem__(self, index):\n",
        "    batches=self.df[index*self.batch_size:(index+1)*self.batch_size]\n",
        "    X, y = self.__get_data(batches)\n",
        "    return X, y\n",
        "\n",
        "  def __len__(self):\n",
        "    return self.n // self.batch_size\n"
      ],
      "metadata": {
        "id": "GXvcIjzw_vup"
      },
      "execution_count": null,
      "outputs": []
    },
    {
      "cell_type": "markdown",
      "source": [
        "# Build Model"
      ],
      "metadata": {
        "id": "4IMMGFbLE1A5"
      }
    },
    {
      "cell_type": "code",
      "source": [
        "#download VGG layers\n",
        "vgg=VGG16(input_shape=IMAGE_SIZE, weights='imagenet', include_top=False)\n",
        "vgg.trainable=False"
      ],
      "metadata": {
        "id": "3Ec5yVppERB8",
        "colab": {
          "base_uri": "https://localhost:8080/"
        },
        "outputId": "ab9c9127-69fa-4470-ff46-27276d0c748e"
      },
      "execution_count": null,
      "outputs": [
        {
          "output_type": "stream",
          "name": "stdout",
          "text": [
            "Downloading data from https://storage.googleapis.com/tensorflow/keras-applications/vgg16/vgg16_weights_tf_dim_ordering_tf_kernels_notop.h5\n",
            "58892288/58889256 [==============================] - 2s 0us/step\n",
            "58900480/58889256 [==============================] - 2s 0us/step\n"
          ]
        }
      ]
    },
    {
      "cell_type": "code",
      "source": [
        "inputs=Input(shape=IMAGE_SIZE)\n",
        "\n",
        "x = vgg(inputs, training=False)\n",
        "\n",
        "#Convert features of output shape to vectors\n",
        "branch = GlobalAveragePooling2D()(x)\n",
        "\n",
        "#Category Prediction Branch\n",
        "cat_branch1 = Dense(512, activation='relu')(branch)\n",
        "cat_branch2 = Dense(256, activation='relu')(cat_branch1)\n",
        "cat_pred=Dense(cat_num, activation='softmax')(cat_branch2)\n",
        "\n",
        "#Pattern Prediction Branch\n",
        "\n",
        "pat_branch1 = Dense(512, activation='relu')(branch)\n",
        "pat_branch2 = Dense(256, activation='relu')(pat_branch1)\n",
        "pat_pred=Dense(pat_num, activation='softmax')(pat_branch2)\n",
        "\n",
        "#Color Prediction Branch\n",
        "col_branch1 = Dense(512, activation='relu')(branch)\n",
        "col_branch2 = Dense(256, activation = 'relu')(col_branch1)\n",
        "col_pred=Dense(col_num, activation = 'softmax')(col_branch2)\n",
        "\n",
        "model=Model(inputs,outputs=[cat_pred,pat_pred,col_pred])"
      ],
      "metadata": {
        "id": "Cy04crnyI2Aw"
      },
      "execution_count": null,
      "outputs": []
    },
    {
      "cell_type": "code",
      "source": [
        "model.summary()"
      ],
      "metadata": {
        "colab": {
          "base_uri": "https://localhost:8080/"
        },
        "id": "qzNMXwv1eL94",
        "outputId": "aa0aca8b-732e-4439-fa6b-591cc6df6056"
      },
      "execution_count": null,
      "outputs": [
        {
          "output_type": "stream",
          "name": "stdout",
          "text": [
            "Model: \"model\"\n",
            "__________________________________________________________________________________________________\n",
            " Layer (type)                   Output Shape         Param #     Connected to                     \n",
            "==================================================================================================\n",
            " input_2 (InputLayer)           [(None, 224, 224, 3  0           []                               \n",
            "                                )]                                                                \n",
            "                                                                                                  \n",
            " vgg16 (Functional)             (None, 7, 7, 512)    14714688    ['input_2[0][0]']                \n",
            "                                                                                                  \n",
            " global_average_pooling2d (Glob  (None, 512)         0           ['vgg16[0][0]']                  \n",
            " alAveragePooling2D)                                                                              \n",
            "                                                                                                  \n",
            " dense (Dense)                  (None, 512)          262656      ['global_average_pooling2d[0][0]'\n",
            "                                                                 ]                                \n",
            "                                                                                                  \n",
            " dense_3 (Dense)                (None, 512)          262656      ['global_average_pooling2d[0][0]'\n",
            "                                                                 ]                                \n",
            "                                                                                                  \n",
            " dense_6 (Dense)                (None, 512)          262656      ['global_average_pooling2d[0][0]'\n",
            "                                                                 ]                                \n",
            "                                                                                                  \n",
            " dense_1 (Dense)                (None, 256)          131328      ['dense[0][0]']                  \n",
            "                                                                                                  \n",
            " dense_4 (Dense)                (None, 256)          131328      ['dense_3[0][0]']                \n",
            "                                                                                                  \n",
            " dense_7 (Dense)                (None, 256)          131328      ['dense_6[0][0]']                \n",
            "                                                                                                  \n",
            " dense_2 (Dense)                (None, 57)           14649       ['dense_1[0][0]']                \n",
            "                                                                                                  \n",
            " dense_5 (Dense)                (None, 23)           5911        ['dense_4[0][0]']                \n",
            "                                                                                                  \n",
            " dense_8 (Dense)                (None, 15)           3855        ['dense_7[0][0]']                \n",
            "                                                                                                  \n",
            "==================================================================================================\n",
            "Total params: 15,921,055\n",
            "Trainable params: 1,206,367\n",
            "Non-trainable params: 14,714,688\n",
            "__________________________________________________________________________________________________\n"
          ]
        }
      ]
    },
    {
      "cell_type": "code",
      "source": [
        "# Defining losses for each output\n",
        "losses ={ 'dense_2':CategoricalCrossentropy(),\n",
        "    'dense_5':CategoricalCrossentropy(),\n",
        "    'dense_8':CategoricalCrossentropy()}\n",
        "\n",
        "model.compile(\n",
        "    loss=losses,\n",
        "    optimizer='adam',\n",
        "    metrics=['accuracy']\n",
        ")"
      ],
      "metadata": {
        "id": "vvqSRPgWeTQG"
      },
      "execution_count": null,
      "outputs": []
    },
    {
      "cell_type": "markdown",
      "source": [
        "If we are continuing training on a previously trained model, it will be loaded in the cell below."
      ],
      "metadata": {
        "id": "v2WY5Avp9ECH"
      }
    },
    {
      "cell_type": "code",
      "source": [
        "import pickle\n",
        "model=pickle.load(open('/content/drive/My Drive/fashion_annotation/model_3.pickle', 'rb'))\n"
      ],
      "metadata": {
        "id": "XsiGNLrlfJTK"
      },
      "execution_count": null,
      "outputs": []
    },
    {
      "cell_type": "code",
      "source": [
        "train_path='/content/drive/My Drive/fashion_annotation/imgs_split/train_1/'\n",
        "traingen = CustomImageGen(\n",
        "    train_data, 'url', y_col_dict, batch_size=32, path=train_path\n",
        ")\n",
        "\n",
        "val_path='/content/drive/My Drive/fashion_annotation/imgs_split/val_1/'\n",
        "valgen = CustomImageGen(\n",
        "    val_data, 'url', y_col_dict, batch_size=32, path=val_path\n",
        ")\n",
        "\n",
        "\n",
        "results = model.fit(traingen,\n",
        "                    validation_data=valgen,\n",
        "                    epochs=2)"
      ],
      "metadata": {
        "id": "zozBp2dBg7ac",
        "colab": {
          "base_uri": "https://localhost:8080/"
        },
        "outputId": "1cbfd89f-74e8-4530-eafa-a257757578ab"
      },
      "execution_count": null,
      "outputs": [
        {
          "output_type": "stream",
          "name": "stdout",
          "text": [
            "Epoch 1/2\n",
            "1667/1667 [==============================] - 30765s 18s/step - loss: 4.3059 - dense_2_loss: 1.8730 - dense_5_loss: 0.9311 - dense_8_loss: 1.5017 - dense_2_accuracy: 0.4641 - dense_5_accuracy: 0.7522 - dense_8_accuracy: 0.5292 - val_loss: 4.2630 - val_dense_2_loss: 1.8238 - val_dense_5_loss: 0.9158 - val_dense_8_loss: 1.5235 - val_dense_2_accuracy: 0.4720 - val_dense_5_accuracy: 0.7564 - val_dense_8_accuracy: 0.5252\n",
            "Epoch 2/2\n",
            "1667/1667 [==============================] - 899s 539ms/step - loss: 4.0218 - dense_2_loss: 1.7164 - dense_5_loss: 0.8677 - dense_8_loss: 1.4377 - dense_2_accuracy: 0.4959 - dense_5_accuracy: 0.7605 - dense_8_accuracy: 0.5474 - val_loss: 4.2612 - val_dense_2_loss: 1.8209 - val_dense_5_loss: 0.9280 - val_dense_8_loss: 1.5123 - val_dense_2_accuracy: 0.4804 - val_dense_5_accuracy: 0.7486 - val_dense_8_accuracy: 0.5332\n"
          ]
        }
      ]
    },
    {
      "cell_type": "code",
      "source": [
        "#save the model and results\n",
        "import pickle\n",
        "with open('/content/drive/My Drive/fashion_annotation/model_4.pickle', 'wb') as f:\n",
        "  pickle.dump(model, f)\n",
        "\n",
        "with open('/content/drive/My Drive/fashion_annotation/results_mod4.pickle', 'wb') as f:\n",
        "  pickle.dump(results, f)"
      ],
      "metadata": {
        "colab": {
          "base_uri": "https://localhost:8080/"
        },
        "id": "m4C3--2ZuS6W",
        "outputId": "0b2fd664-489b-41d1-816f-885505d2c5ad"
      },
      "execution_count": null,
      "outputs": [
        {
          "output_type": "stream",
          "name": "stdout",
          "text": [
            "INFO:tensorflow:Assets written to: ram://754d79d1-1aff-4576-bdc9-a063aff092e5/assets\n",
            "INFO:tensorflow:Assets written to: ram://7fe0dd8d-3623-42f7-a1d3-93f3ee48214f/assets\n"
          ]
        }
      ]
    },
    {
      "cell_type": "markdown",
      "source": [
        "# Evaluate Model\n",
        "\n",
        "The main goal of this project is not to produce the most accurate model possible. But it is still important to take a look at the results and understand how it is performing.  The accuracy scores are not particularly high (although much better than random guessing) and looking at confusion matrices can help us understand what may be causing the errors.\n",
        "\n",
        "Below is the accuracy score for each attribute:\n",
        "\n",
        "<ol>\n",
        "<li>Category: 48%</li>\n",
        "<li>Pattern: 75%</li>\n",
        "<li>Color: 53%</li>\n",
        "</ol>"
      ],
      "metadata": {
        "id": "FgTtAG3iBID7"
      }
    },
    {
      "cell_type": "code",
      "source": [
        "import pickle\n",
        "model=pickle.load(open('/content/drive/My Drive/fashion_annotation/model_4.pickle', 'rb'))\n"
      ],
      "metadata": {
        "id": "0xCH0wp2MxYf"
      },
      "execution_count": null,
      "outputs": []
    },
    {
      "cell_type": "code",
      "source": [
        "val_path='/content/drive/My Drive/fashion_annotation/imgs_split/val_1/'\n",
        "valgen = CustomImageGen(\n",
        "    val_data, 'url', y_col_dict, batch_size=32, path=val_path\n",
        ")"
      ],
      "metadata": {
        "id": "oQiGwsuMM3Gn"
      },
      "execution_count": null,
      "outputs": []
    },
    {
      "cell_type": "code",
      "source": [
        "prediction=model.predict(x=valgen)"
      ],
      "metadata": {
        "id": "EGWJkdhDM5YU"
      },
      "execution_count": null,
      "outputs": []
    },
    {
      "cell_type": "code",
      "source": [
        "cat_pred=np.argmax(prediction[0],axis=1)\n",
        "pat_pred=np.argmax(prediction[1],axis=1)\n",
        "col_pred=np.argmax(prediction[2],axis=1)"
      ],
      "metadata": {
        "id": "9V85Wu6CCr6h"
      },
      "execution_count": null,
      "outputs": []
    },
    {
      "cell_type": "code",
      "source": [
        "cat_pred"
      ],
      "metadata": {
        "colab": {
          "base_uri": "https://localhost:8080/"
        },
        "id": "nwDBy2vrSeP2",
        "outputId": "ac999120-61bf-45c9-ef59-1a08b4d1d74a"
      },
      "execution_count": null,
      "outputs": [
        {
          "output_type": "execute_result",
          "data": {
            "text/plain": [
              "array([45, 26, 43, ...,  9,  4, 41])"
            ]
          },
          "metadata": {},
          "execution_count": 15
        }
      ]
    },
    {
      "cell_type": "code",
      "source": [
        "import pickle\n",
        "with open('/content/drive/My Drive/fashion_annotation/cat_pred.pickle', 'wb') as f:\n",
        "  pickle.dump(cat_pred, f)\n",
        "\n",
        "with open('/content/drive/My Drive/fashion_annotation/pat_pred.pickle', 'wb') as f:\n",
        "  pickle.dump(pat_pred, f)\n",
        "\n",
        "with open('/content/drive/My Drive/fashion_annotation/col_pred.pickle', 'wb') as f:\n",
        "  pickle.dump(col_pred, f)"
      ],
      "metadata": {
        "id": "A0F_QvXzSfMa"
      },
      "execution_count": null,
      "outputs": []
    },
    {
      "cell_type": "code",
      "source": [
        "import pickle\n",
        "cat_pred=pickle.load(open('/content/drive/My Drive/fashion_annotation/cat_pred.pickle', 'rb'))\n",
        "pat_pred=pickle.load(open('/content/drive/My Drive/fashion_annotation/pat_pred.pickle', 'rb'))\n",
        "col_pred=pickle.load(open('/content/drive/My Drive/fashion_annotation/col_pred.pickle', 'rb'))"
      ],
      "metadata": {
        "id": "ud4HrSgbS6VM"
      },
      "execution_count": null,
      "outputs": []
    },
    {
      "cell_type": "code",
      "source": [
        "cat_pred.shape"
      ],
      "metadata": {
        "colab": {
          "base_uri": "https://localhost:8080/"
        },
        "id": "_Fv_YScW3wS5",
        "outputId": "d13299e7-a05d-4cd9-91cc-57a249d0a5ae"
      },
      "execution_count": null,
      "outputs": [
        {
          "output_type": "execute_result",
          "data": {
            "text/plain": [
              "(13312,)"
            ]
          },
          "metadata": {},
          "execution_count": 13
        }
      ]
    },
    {
      "cell_type": "code",
      "source": [
        "cat_true=val_data['cat_codes'][:13312]\n",
        "pat_true=val_data['pat_codes'][:13312]\n",
        "col_true=val_data['col_codes'][:13312]"
      ],
      "metadata": {
        "id": "ddwoSuOy3zwu"
      },
      "execution_count": null,
      "outputs": []
    },
    {
      "cell_type": "markdown",
      "source": [
        "### Category Confusion Matrix\n",
        "\n",
        "We can see from the confusion matrix that there are errors distributed across most of the categories but 19 in particular seems to be error prone. This is the Dress Shirts category. Perhaps this is a case where the definition of what constitutes a dress shirt was not strict enough in the labeling process and it is too difficult for the model to distinguish the differences."
      ],
      "metadata": {
        "id": "KBmbarVQCjvZ"
      }
    },
    {
      "cell_type": "code",
      "source": [
        "seaborn.heatmap(confusion_matrix(cat_true,cat_pred),cmap=\"YlGnBu\",vmax=50)"
      ],
      "metadata": {
        "colab": {
          "base_uri": "https://localhost:8080/",
          "height": 287
        },
        "id": "6zLju6NA5c_V",
        "outputId": "d212ab93-605b-4edc-9247-72019a83c3f8"
      },
      "execution_count": null,
      "outputs": [
        {
          "output_type": "execute_result",
          "data": {
            "text/plain": [
              "<matplotlib.axes._subplots.AxesSubplot at 0x7f29a23438d0>"
            ]
          },
          "metadata": {},
          "execution_count": 34
        },
        {
          "output_type": "display_data",
          "data": {
            "text/plain": [
              "<Figure size 432x288 with 2 Axes>"
            ],
            "image/png": "[encoded data removed]"
          },
          "metadata": {
            "needs_background": "light"
          }
        }
      ]
    },
    {
      "cell_type": "markdown",
      "source": [
        "### Pattern Confusion Matrix\n",
        "\n",
        "For this attribute category 10 is extremely problematic. Most of the other categories perform well. This corresponds to 'None' indicating a solid color.  This is not surprising and is likely due to confusing labeling in the other categories. In the data cleaning all images with null values were assigned 'None' but some of these could have also been missing data instead of an indication that there was no pattern present. It should also be noted that although most of the errors are concentrated in this category, it is also what the vast majority of the images were classified as."
      ],
      "metadata": {
        "id": "ubSPNwsXDvJp"
      }
    },
    {
      "cell_type": "code",
      "source": [
        "import seaborn\n",
        "seaborn.heatmap(confusion_matrix(pat_true,pat_pred),vmax=50,cmap=\"YlGnBu\")"
      ],
      "metadata": {
        "colab": {
          "base_uri": "https://localhost:8080/",
          "height": 290
        },
        "id": "97Kuoi3f5Cwc",
        "outputId": "40d924d8-68e4-4869-956a-e3ef374e2fc6"
      },
      "execution_count": null,
      "outputs": [
        {
          "output_type": "execute_result",
          "data": {
            "text/plain": [
              "<matplotlib.axes._subplots.AxesSubplot at 0x7f29a243fd90>"
            ]
          },
          "metadata": {},
          "execution_count": 33
        },
        {
          "output_type": "display_data",
          "data": {
            "text/plain": [
              "<Figure size 432x288 with 2 Axes>"
            ],
            "image/png": "[encoded data removed]"
          },
          "metadata": {
            "needs_background": "light"
          }
        }
      ]
    },
    {
      "cell_type": "markdown",
      "source": [
        "### Color Confusion Matrix\n",
        "\n",
        "Errors for color are distributed across categories although 1, 11, and 13 seem to be particularly problematic.  This corresponds to Black, Red, and White. To increase accuracy, one would need to more closely examine labeling for these images."
      ],
      "metadata": {
        "id": "UsGrejHRETcT"
      }
    },
    {
      "cell_type": "code",
      "source": [
        "seaborn.heatmap(confusion_matrix(col_true,col_pred),cmap=\"YlGnBu\",vmax=50)"
      ],
      "metadata": {
        "colab": {
          "base_uri": "https://localhost:8080/",
          "height": 287
        },
        "id": "y4wtEF7j6BlB",
        "outputId": "754490c4-aa7b-43bc-f556-3895c35186ce"
      },
      "execution_count": null,
      "outputs": [
        {
          "output_type": "execute_result",
          "data": {
            "text/plain": [
              "<matplotlib.axes._subplots.AxesSubplot at 0x7f29a2255950>"
            ]
          },
          "metadata": {},
          "execution_count": 35
        },
        {
          "output_type": "display_data",
          "data": {
            "text/plain": [
              "<Figure size 432x288 with 2 Axes>"
            ],
            "image/png": "[encoded data removed]"
          },
          "metadata": {
            "needs_background": "light"
          }
        }
      ]
    },
    {
      "cell_type": "markdown",
      "source": [
        "# Prediction Pipeline"
      ],
      "metadata": {
        "id": "5QnbpXix8GXt"
      }
    },
    {
      "cell_type": "markdown",
      "source": [
        "Now that the model has been trained, the pipeline has to be developed to retrieve Instagram images, assign annotations, and store them in a database to be used for a Google Data Studio report.  This process is outlined in the second notebook."
      ],
      "metadata": {
        "id": "x53Q451RFuUn"
      }
    },
    {
      "cell_type": "markdown",
      "source": [
        "# Conclusions"
      ],
      "metadata": {
        "id": "sb0GFtIZGWvl"
      }
    },
    {
      "cell_type": "markdown",
      "source": [
        "This project is a proof of concept that demonstrates how to provide more detailed Instagram fashion trend data to end users using a neural network that can assign three different attributes to pictured clothing. \n",
        "\n",
        "The model used is 48% accurate for category of clothing, 75% accurate for pattern, and 53% accurate for color. Due to resource and time constraints the model could not be developed further, but there are many avenues available to improve the outcomes and it already shows a much higher ability to assign annotations that random guessing among the options.\n",
        "\n",
        "The report was produced using 6 hashtags popular among fashion influencers to retrieve fashion images from Instagram posts. However, to have a broad overview of fashion trend data it would be important to carefully select hashtags, consider targeting certain user accounts (known influencers or set threshold for minimum number of followers), and ensure a sufficient quantity is collected.  These adjustments could easily be made in the second notebook for the prediction pipeline after sufficient research was done."
      ],
      "metadata": {
        "id": "nbrS6iUXGZ6t"
      }
    }
  ]
}